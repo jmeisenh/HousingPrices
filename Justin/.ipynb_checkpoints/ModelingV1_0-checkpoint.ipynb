{
 "cells": [
  {
   "cell_type": "code",
   "execution_count": 1,
   "id": "bdef44f7",
   "metadata": {},
   "outputs": [],
   "source": [
    "import pandas as pd\n",
    "import numpy as np\n",
    "import matplotlib.pyplot as plt\n",
    "import plotly.express as px\n",
    "import plotly.graph_objects as go\n",
    "from plotly.subplots import make_subplots"
   ]
  },
  {
   "cell_type": "markdown",
   "id": "b643509f",
   "metadata": {},
   "source": [
    "# Import Data for V1.0 Feature Selection"
   ]
  },
  {
   "cell_type": "code",
   "execution_count": 16,
   "id": "4cb70f73",
   "metadata": {},
   "outputs": [],
   "source": [
    "X_train= pd.read_csv('C:/Users/jmeis/NYC_DSA/HousingPrices/Data/Version_1.0/x_Train.csv')\n",
    "X_test= pd.read_csv('C:/Users/jmeis/NYC_DSA/HousingPrices/Data/Version_1.0/x_Test.csv')\n",
    "y_train= pd.read_csv('C:/Users/jmeis/NYC_DSA/HousingPrices/Data/Version_1.0/y_Train.csv')\n",
    "y_test= pd.read_csv('C:/Users/jmeis/NYC_DSA/HousingPrices/Data/Version_1.0/y_Test.csv')"
   ]
  },
  {
   "cell_type": "markdown",
   "id": "c8f634a0",
   "metadata": {},
   "source": [
    "# Create Basic Linear Regression for comparison Purposes"
   ]
  },
  {
   "cell_type": "code",
   "execution_count": 19,
   "id": "a503f716",
   "metadata": {},
   "outputs": [
    {
     "data": {
      "text/plain": [
       "LogisticRegression(solver='liblinear')"
      ]
     },
     "execution_count": 19,
     "metadata": {},
     "output_type": "execute_result"
    }
   ],
   "source": [
    "def warn(*args, **kwargs):\n",
    "    pass\n",
    "import warnings\n",
    "warnings.warn = warn\n",
    "\n",
    "from sklearn.linear_model import LogisticRegression\n",
    "logit = LogisticRegression(solver='liblinear')\n",
    "logit.fit(X_train, y_train)"
   ]
  },
  {
   "cell_type": "code",
   "execution_count": 20,
   "id": "c5c8bab7",
   "metadata": {},
   "outputs": [
    {
     "data": {
      "text/plain": [
       "0.9841427155599604"
      ]
     },
     "execution_count": 20,
     "metadata": {},
     "output_type": "execute_result"
    }
   ],
   "source": [
    "logit.score(X_train, y_train)"
   ]
  },
  {
   "cell_type": "markdown",
   "id": "c8e4e72f",
   "metadata": {},
   "source": [
    "## Make Predicitions "
   ]
  },
  {
   "cell_type": "code",
   "execution_count": 28,
   "id": "a2b3c9ee",
   "metadata": {},
   "outputs": [
    {
     "data": {
      "text/html": [
       "<div>\n",
       "<style scoped>\n",
       "    .dataframe tbody tr th:only-of-type {\n",
       "        vertical-align: middle;\n",
       "    }\n",
       "\n",
       "    .dataframe tbody tr th {\n",
       "        vertical-align: top;\n",
       "    }\n",
       "\n",
       "    .dataframe thead th {\n",
       "        text-align: right;\n",
       "    }\n",
       "</style>\n",
       "<table border=\"1\" class=\"dataframe\">\n",
       "  <thead>\n",
       "    <tr style=\"text-align: right;\">\n",
       "      <th></th>\n",
       "      <th>Predicted</th>\n",
       "      <th>Actual</th>\n",
       "    </tr>\n",
       "  </thead>\n",
       "  <tbody>\n",
       "    <tr>\n",
       "      <th>0</th>\n",
       "      <td>244000</td>\n",
       "      <td>136000</td>\n",
       "    </tr>\n",
       "    <tr>\n",
       "      <th>1</th>\n",
       "      <td>174000</td>\n",
       "      <td>194201</td>\n",
       "    </tr>\n",
       "    <tr>\n",
       "      <th>2</th>\n",
       "      <td>287000</td>\n",
       "      <td>294000</td>\n",
       "    </tr>\n",
       "    <tr>\n",
       "      <th>3</th>\n",
       "      <td>167000</td>\n",
       "      <td>132000</td>\n",
       "    </tr>\n",
       "    <tr>\n",
       "      <th>4</th>\n",
       "      <td>128000</td>\n",
       "      <td>119000</td>\n",
       "    </tr>\n",
       "    <tr>\n",
       "      <th>...</th>\n",
       "      <td>...</td>\n",
       "      <td>...</td>\n",
       "    </tr>\n",
       "    <tr>\n",
       "      <th>428</th>\n",
       "      <td>309000</td>\n",
       "      <td>274725</td>\n",
       "    </tr>\n",
       "    <tr>\n",
       "      <th>429</th>\n",
       "      <td>97000</td>\n",
       "      <td>84000</td>\n",
       "    </tr>\n",
       "    <tr>\n",
       "      <th>430</th>\n",
       "      <td>361919</td>\n",
       "      <td>485000</td>\n",
       "    </tr>\n",
       "    <tr>\n",
       "      <th>431</th>\n",
       "      <td>185000</td>\n",
       "      <td>215000</td>\n",
       "    </tr>\n",
       "    <tr>\n",
       "      <th>432</th>\n",
       "      <td>251000</td>\n",
       "      <td>328900</td>\n",
       "    </tr>\n",
       "  </tbody>\n",
       "</table>\n",
       "<p>433 rows × 2 columns</p>\n",
       "</div>"
      ],
      "text/plain": [
       "     Predicted  Actual\n",
       "0       244000  136000\n",
       "1       174000  194201\n",
       "2       287000  294000\n",
       "3       167000  132000\n",
       "4       128000  119000\n",
       "..         ...     ...\n",
       "428     309000  274725\n",
       "429      97000   84000\n",
       "430     361919  485000\n",
       "431     185000  215000\n",
       "432     251000  328900\n",
       "\n",
       "[433 rows x 2 columns]"
      ]
     },
     "execution_count": 28,
     "metadata": {},
     "output_type": "execute_result"
    }
   ],
   "source": [
    "PredLin = pd.concat([pd.Series(logit.predict(X_test)), y_test], axis = 1)\n",
    "PredLin.columns = ['Predicted', 'Actual']\n",
    "PredLin\n"
   ]
  },
  {
   "cell_type": "markdown",
   "id": "a517cc38",
   "metadata": {},
   "source": [
    "## Let's Score Ourselves"
   ]
  },
  {
   "cell_type": "code",
   "execution_count": 35,
   "id": "0f41d7b5",
   "metadata": {},
   "outputs": [
    {
     "data": {
      "text/plain": [
       "1287134913755"
      ]
     },
     "execution_count": 35,
     "metadata": {},
     "output_type": "execute_result"
    }
   ],
   "source": [
    "PredLin['Difference']=(PredLin['Predicted'] - PredLin['Actual'])**2\n",
    "RSS = PredLin.Difference.sum()\n",
    "RSS"
   ]
  },
  {
   "cell_type": "code",
   "execution_count": 38,
   "id": "6d61b52c",
   "metadata": {},
   "outputs": [
    {
     "data": {
      "text/plain": [
       "54521.536600180334"
      ]
     },
     "execution_count": 38,
     "metadata": {},
     "output_type": "execute_result"
    }
   ],
   "source": [
    "Average = PredLin.Difference.mean()**.5\n",
    "Average"
   ]
  },
  {
   "cell_type": "code",
   "execution_count": 39,
   "id": "1512ea00",
   "metadata": {},
   "outputs": [
    {
     "data": {
      "text/plain": [
       "0.006928406466512702"
      ]
     },
     "execution_count": 39,
     "metadata": {},
     "output_type": "execute_result"
    }
   ],
   "source": [
    "logit.score(X_test, y_test)"
   ]
  },
  {
   "cell_type": "markdown",
   "id": "777413d5",
   "metadata": {},
   "source": [
    "**Yeah.......that's bad.....**"
   ]
  },
  {
   "cell_type": "code",
   "execution_count": null,
   "id": "5e0f8624",
   "metadata": {},
   "outputs": [],
   "source": []
  }
 ],
 "metadata": {
  "kernelspec": {
   "display_name": "Python 3 (ipykernel)",
   "language": "python",
   "name": "python3"
  },
  "language_info": {
   "codemirror_mode": {
    "name": "ipython",
    "version": 3
   },
   "file_extension": ".py",
   "mimetype": "text/x-python",
   "name": "python",
   "nbconvert_exporter": "python",
   "pygments_lexer": "ipython3",
   "version": "3.8.12"
  }
 },
 "nbformat": 4,
 "nbformat_minor": 5
}
