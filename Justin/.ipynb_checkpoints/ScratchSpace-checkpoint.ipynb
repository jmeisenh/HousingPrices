{
 "cells": [
  {
   "cell_type": "code",
   "execution_count": 48,
   "id": "ffacd4e7",
   "metadata": {},
   "outputs": [],
   "source": [
    "import pandas as pd\n",
    "import numpy as np\n",
    "import time\n",
    "import matplotlib.pyplot as plt\n",
    "pd.set_option('display.max_rows', 100)\n",
    "pd.set_option('display.max_columns', 100)\n"
   ]
  },
  {
   "cell_type": "markdown",
   "id": "dd2b481d",
   "metadata": {},
   "source": [
    "# Initialize Data Frame"
   ]
  },
  {
   "cell_type": "code",
   "execution_count": 5,
   "id": "ae12777d",
   "metadata": {},
   "outputs": [
    {
     "data": {
      "text/html": [
       "<div>\n",
       "<style scoped>\n",
       "    .dataframe tbody tr th:only-of-type {\n",
       "        vertical-align: middle;\n",
       "    }\n",
       "\n",
       "    .dataframe tbody tr th {\n",
       "        vertical-align: top;\n",
       "    }\n",
       "\n",
       "    .dataframe thead th {\n",
       "        text-align: right;\n",
       "    }\n",
       "</style>\n",
       "<table border=\"1\" class=\"dataframe\">\n",
       "  <thead>\n",
       "    <tr style=\"text-align: right;\">\n",
       "      <th></th>\n",
       "      <th>Id</th>\n",
       "      <th>MSSubClass</th>\n",
       "      <th>MSZoning</th>\n",
       "      <th>LotFrontage</th>\n",
       "      <th>LotArea</th>\n",
       "      <th>Street</th>\n",
       "      <th>Alley</th>\n",
       "      <th>LotShape</th>\n",
       "      <th>LandContour</th>\n",
       "      <th>Utilities</th>\n",
       "      <th>...</th>\n",
       "      <th>ScreenPorch</th>\n",
       "      <th>PoolArea</th>\n",
       "      <th>PoolQC</th>\n",
       "      <th>Fence</th>\n",
       "      <th>MiscFeature</th>\n",
       "      <th>MiscVal</th>\n",
       "      <th>MoSold</th>\n",
       "      <th>YrSold</th>\n",
       "      <th>SaleType</th>\n",
       "      <th>SaleCondition</th>\n",
       "    </tr>\n",
       "  </thead>\n",
       "  <tbody>\n",
       "    <tr>\n",
       "      <th>0</th>\n",
       "      <td>1461</td>\n",
       "      <td>20</td>\n",
       "      <td>RH</td>\n",
       "      <td>80.0</td>\n",
       "      <td>11622</td>\n",
       "      <td>Pave</td>\n",
       "      <td>NaN</td>\n",
       "      <td>Reg</td>\n",
       "      <td>Lvl</td>\n",
       "      <td>AllPub</td>\n",
       "      <td>...</td>\n",
       "      <td>120</td>\n",
       "      <td>0</td>\n",
       "      <td>NaN</td>\n",
       "      <td>MnPrv</td>\n",
       "      <td>NaN</td>\n",
       "      <td>0</td>\n",
       "      <td>6</td>\n",
       "      <td>2010</td>\n",
       "      <td>WD</td>\n",
       "      <td>Normal</td>\n",
       "    </tr>\n",
       "    <tr>\n",
       "      <th>1</th>\n",
       "      <td>1462</td>\n",
       "      <td>20</td>\n",
       "      <td>RL</td>\n",
       "      <td>81.0</td>\n",
       "      <td>14267</td>\n",
       "      <td>Pave</td>\n",
       "      <td>NaN</td>\n",
       "      <td>IR1</td>\n",
       "      <td>Lvl</td>\n",
       "      <td>AllPub</td>\n",
       "      <td>...</td>\n",
       "      <td>0</td>\n",
       "      <td>0</td>\n",
       "      <td>NaN</td>\n",
       "      <td>NaN</td>\n",
       "      <td>Gar2</td>\n",
       "      <td>12500</td>\n",
       "      <td>6</td>\n",
       "      <td>2010</td>\n",
       "      <td>WD</td>\n",
       "      <td>Normal</td>\n",
       "    </tr>\n",
       "    <tr>\n",
       "      <th>2</th>\n",
       "      <td>1463</td>\n",
       "      <td>60</td>\n",
       "      <td>RL</td>\n",
       "      <td>74.0</td>\n",
       "      <td>13830</td>\n",
       "      <td>Pave</td>\n",
       "      <td>NaN</td>\n",
       "      <td>IR1</td>\n",
       "      <td>Lvl</td>\n",
       "      <td>AllPub</td>\n",
       "      <td>...</td>\n",
       "      <td>0</td>\n",
       "      <td>0</td>\n",
       "      <td>NaN</td>\n",
       "      <td>MnPrv</td>\n",
       "      <td>NaN</td>\n",
       "      <td>0</td>\n",
       "      <td>3</td>\n",
       "      <td>2010</td>\n",
       "      <td>WD</td>\n",
       "      <td>Normal</td>\n",
       "    </tr>\n",
       "    <tr>\n",
       "      <th>3</th>\n",
       "      <td>1464</td>\n",
       "      <td>60</td>\n",
       "      <td>RL</td>\n",
       "      <td>78.0</td>\n",
       "      <td>9978</td>\n",
       "      <td>Pave</td>\n",
       "      <td>NaN</td>\n",
       "      <td>IR1</td>\n",
       "      <td>Lvl</td>\n",
       "      <td>AllPub</td>\n",
       "      <td>...</td>\n",
       "      <td>0</td>\n",
       "      <td>0</td>\n",
       "      <td>NaN</td>\n",
       "      <td>NaN</td>\n",
       "      <td>NaN</td>\n",
       "      <td>0</td>\n",
       "      <td>6</td>\n",
       "      <td>2010</td>\n",
       "      <td>WD</td>\n",
       "      <td>Normal</td>\n",
       "    </tr>\n",
       "    <tr>\n",
       "      <th>4</th>\n",
       "      <td>1465</td>\n",
       "      <td>120</td>\n",
       "      <td>RL</td>\n",
       "      <td>43.0</td>\n",
       "      <td>5005</td>\n",
       "      <td>Pave</td>\n",
       "      <td>NaN</td>\n",
       "      <td>IR1</td>\n",
       "      <td>HLS</td>\n",
       "      <td>AllPub</td>\n",
       "      <td>...</td>\n",
       "      <td>144</td>\n",
       "      <td>0</td>\n",
       "      <td>NaN</td>\n",
       "      <td>NaN</td>\n",
       "      <td>NaN</td>\n",
       "      <td>0</td>\n",
       "      <td>1</td>\n",
       "      <td>2010</td>\n",
       "      <td>WD</td>\n",
       "      <td>Normal</td>\n",
       "    </tr>\n",
       "  </tbody>\n",
       "</table>\n",
       "<p>5 rows × 80 columns</p>\n",
       "</div>"
      ],
      "text/plain": [
       "     Id  MSSubClass MSZoning  LotFrontage  LotArea Street Alley LotShape  \\\n",
       "0  1461          20       RH         80.0    11622   Pave   NaN      Reg   \n",
       "1  1462          20       RL         81.0    14267   Pave   NaN      IR1   \n",
       "2  1463          60       RL         74.0    13830   Pave   NaN      IR1   \n",
       "3  1464          60       RL         78.0     9978   Pave   NaN      IR1   \n",
       "4  1465         120       RL         43.0     5005   Pave   NaN      IR1   \n",
       "\n",
       "  LandContour Utilities  ... ScreenPorch PoolArea PoolQC  Fence MiscFeature  \\\n",
       "0         Lvl    AllPub  ...         120        0    NaN  MnPrv         NaN   \n",
       "1         Lvl    AllPub  ...           0        0    NaN    NaN        Gar2   \n",
       "2         Lvl    AllPub  ...           0        0    NaN  MnPrv         NaN   \n",
       "3         Lvl    AllPub  ...           0        0    NaN    NaN         NaN   \n",
       "4         HLS    AllPub  ...         144        0    NaN    NaN         NaN   \n",
       "\n",
       "  MiscVal MoSold  YrSold  SaleType  SaleCondition  \n",
       "0       0      6    2010        WD         Normal  \n",
       "1   12500      6    2010        WD         Normal  \n",
       "2       0      3    2010        WD         Normal  \n",
       "3       0      6    2010        WD         Normal  \n",
       "4       0      1    2010        WD         Normal  \n",
       "\n",
       "[5 rows x 80 columns]"
      ]
     },
     "execution_count": 5,
     "metadata": {},
     "output_type": "execute_result"
    }
   ],
   "source": [
    "testRaw = pd.read_csv('c:/Users/jmeis/NYC_DSA/HousingPrices/Data/test.csv')\n",
    "testRaw.head()"
   ]
  },
  {
   "cell_type": "markdown",
   "id": "dbbd1d91",
   "metadata": {},
   "source": [
    "##  Find NAs"
   ]
  },
  {
   "cell_type": "code",
   "execution_count": 8,
   "id": "20560aea",
   "metadata": {
    "scrolled": true
   },
   "outputs": [
    {
     "data": {
      "text/plain": [
       "Id                  0\n",
       "MSSubClass          0\n",
       "MSZoning            4\n",
       "LotFrontage       227\n",
       "LotArea             0\n",
       "Street              0\n",
       "Alley            1352\n",
       "LotShape            0\n",
       "LandContour         0\n",
       "Utilities           2\n",
       "LotConfig           0\n",
       "LandSlope           0\n",
       "Neighborhood        0\n",
       "Condition1          0\n",
       "Condition2          0\n",
       "BldgType            0\n",
       "HouseStyle          0\n",
       "OverallQual         0\n",
       "OverallCond         0\n",
       "YearBuilt           0\n",
       "YearRemodAdd        0\n",
       "RoofStyle           0\n",
       "RoofMatl            0\n",
       "Exterior1st         1\n",
       "Exterior2nd         1\n",
       "MasVnrType         16\n",
       "MasVnrArea         15\n",
       "ExterQual           0\n",
       "ExterCond           0\n",
       "Foundation          0\n",
       "BsmtQual           44\n",
       "BsmtCond           45\n",
       "BsmtExposure       44\n",
       "BsmtFinType1       42\n",
       "BsmtFinSF1          1\n",
       "BsmtFinType2       42\n",
       "BsmtFinSF2          1\n",
       "BsmtUnfSF           1\n",
       "TotalBsmtSF         1\n",
       "Heating             0\n",
       "HeatingQC           0\n",
       "CentralAir          0\n",
       "Electrical          0\n",
       "1stFlrSF            0\n",
       "2ndFlrSF            0\n",
       "LowQualFinSF        0\n",
       "GrLivArea           0\n",
       "BsmtFullBath        2\n",
       "BsmtHalfBath        2\n",
       "FullBath            0\n",
       "HalfBath            0\n",
       "BedroomAbvGr        0\n",
       "KitchenAbvGr        0\n",
       "KitchenQual         1\n",
       "TotRmsAbvGrd        0\n",
       "Functional          2\n",
       "Fireplaces          0\n",
       "FireplaceQu       730\n",
       "GarageType         76\n",
       "GarageYrBlt        78\n",
       "GarageFinish       78\n",
       "GarageCars          1\n",
       "GarageArea          1\n",
       "GarageQual         78\n",
       "GarageCond         78\n",
       "PavedDrive          0\n",
       "WoodDeckSF          0\n",
       "OpenPorchSF         0\n",
       "EnclosedPorch       0\n",
       "3SsnPorch           0\n",
       "ScreenPorch         0\n",
       "PoolArea            0\n",
       "PoolQC           1456\n",
       "Fence            1169\n",
       "MiscFeature      1408\n",
       "MiscVal             0\n",
       "MoSold              0\n",
       "YrSold              0\n",
       "SaleType            1\n",
       "SaleCondition       0\n",
       "dtype: int64"
      ]
     },
     "execution_count": 8,
     "metadata": {},
     "output_type": "execute_result"
    }
   ],
   "source": [
    "testRaw.isna().sum(axis=0)"
   ]
  },
  {
   "cell_type": "markdown",
   "id": "7acf5d5a",
   "metadata": {},
   "source": [
    "## Action Plan for NA values"
   ]
  },
  {
   "cell_type": "markdown",
   "id": "db77c5ea",
   "metadata": {},
   "source": [
    "**Cleaning NAs is going to be a process**  \n",
    "+ All variables with quality in the description use NA to denote there is no object to denote the quality of  \n",
    "    - suggest replacing with text 'none' and using that as the default case in dummification   \n",
    "    - build a masking variable\n",
    "+ MSZoning has 4 NA values, no easily identifiable characteristics to interpolate, strongly consider dropping. Could be a very important variable.\n",
    "+ LotFrontage Variable has 227 NA values, but no values equal to zero, assuming NA means 0\n",
    "+ Utilities has 2 NA values, no identifying charactersitics for this variable strongly consider dropping  \n",
    "+ Exterior1st has 1 NA value, convert to 'Other' \n",
    "+ Exterior2nd has 1 NA value, convert to 'Other' \n",
    "+ MasVnrArea has 16 NA values, convert to None  \n",
    "+ MasVnrQual has 15 NA values corresponding to the NAs in previous category, change to 0 (an acceptable value in this dataset)\n",
    "+ BsmtFinSF1 has 1 NA value, change to 0 (see anaomlies section for explanation)  \n",
    "+ BsmtFinSF2 has 1 NA value, change to 0 (see anaomlies section for explanation)  \n",
    "+ BsmtUnfSF has 1 NA value, change to 0 (see anaomlies section for explanation)  \n",
    "+ BsmtFullBath has 2 NAs, but records say there is no basement, change to zero  \n",
    "+ BsmtHalfBath has 2 NAs, but records say there is no basement, change to zero \n",
    "+ KitchenAbvGr has 1 NA, but has a kitchen listed in the record, no way to interpolate, consider dropping\n",
    "+ Functional has 2 NA values, no way to interpolate consider dropping\n",
    "+ GarageCars, and GarageArea NA values will be dropped (see below anomoly description)\n",
    "+ SaleType, has 1 NA value, change to 'Oth'\n",
    "\n",
    "**Variables with NA values who's rows we should drop**  \n",
    "+ MSZoning  \n",
    "+ Utilities\n",
    "+ KitchenQual\n",
    "+ Functional\n",
    "\n",
    "\n"
   ]
  },
  {
   "cell_type": "markdown",
   "id": "4ccabc48",
   "metadata": {},
   "source": [
    "### Mask Variable for replacing NA values in columns where NA has meaning"
   ]
  },
  {
   "cell_type": "code",
   "execution_count": 73,
   "id": "51a3b753",
   "metadata": {},
   "outputs": [],
   "source": [
    "naMask = ['Alley', 'Exterior1st','Exterior2nd', 'BsmtQual', 'BsmtCond','BsmtExposure', 'BsmtFinType1', 'BsmtFinType2', 'FireplaceQu', 'GarageType', 'GarageYrBlt', 'GarageFinish'\\\n",
    "         ,'GarageQual', 'GarageCond', 'PoolQC', 'Fence', 'MiscFeature' ]"
   ]
  },
  {
   "cell_type": "markdown",
   "id": "93041178",
   "metadata": {
    "scrolled": true
   },
   "source": [
    "### Additional Data Anomolies"
   ]
  },
  {
   "cell_type": "markdown",
   "id": "90e95e08",
   "metadata": {},
   "source": [
    "**Mismatch in Basement Existence Data**"
   ]
  },
  {
   "cell_type": "code",
   "execution_count": 37,
   "id": "88f6a1f6",
   "metadata": {},
   "outputs": [
    {
     "data": {
      "text/html": [
       "<div>\n",
       "<style scoped>\n",
       "    .dataframe tbody tr th:only-of-type {\n",
       "        vertical-align: middle;\n",
       "    }\n",
       "\n",
       "    .dataframe tbody tr th {\n",
       "        vertical-align: top;\n",
       "    }\n",
       "\n",
       "    .dataframe thead th {\n",
       "        text-align: right;\n",
       "    }\n",
       "</style>\n",
       "<table border=\"1\" class=\"dataframe\">\n",
       "  <thead>\n",
       "    <tr style=\"text-align: right;\">\n",
       "      <th></th>\n",
       "      <th>BsmtQual</th>\n",
       "      <th>BsmtCond</th>\n",
       "      <th>BsmtExposure</th>\n",
       "      <th>BsmtFinType1</th>\n",
       "      <th>BsmtFinSF1</th>\n",
       "      <th>BsmtFinType2</th>\n",
       "      <th>BsmtFinSF2</th>\n",
       "      <th>BsmtUnfSF</th>\n",
       "      <th>TotalBsmtSF</th>\n",
       "    </tr>\n",
       "  </thead>\n",
       "  <tbody>\n",
       "    <tr>\n",
       "      <th>660</th>\n",
       "      <td>NaN</td>\n",
       "      <td>NaN</td>\n",
       "      <td>NaN</td>\n",
       "      <td>NaN</td>\n",
       "      <td>NaN</td>\n",
       "      <td>NaN</td>\n",
       "      <td>NaN</td>\n",
       "      <td>NaN</td>\n",
       "      <td>NaN</td>\n",
       "    </tr>\n",
       "    <tr>\n",
       "      <th>757</th>\n",
       "      <td>NaN</td>\n",
       "      <td>Fa</td>\n",
       "      <td>No</td>\n",
       "      <td>Unf</td>\n",
       "      <td>0.0</td>\n",
       "      <td>Unf</td>\n",
       "      <td>0.0</td>\n",
       "      <td>173.0</td>\n",
       "      <td>173.0</td>\n",
       "    </tr>\n",
       "    <tr>\n",
       "      <th>758</th>\n",
       "      <td>NaN</td>\n",
       "      <td>TA</td>\n",
       "      <td>No</td>\n",
       "      <td>Unf</td>\n",
       "      <td>0.0</td>\n",
       "      <td>Unf</td>\n",
       "      <td>0.0</td>\n",
       "      <td>356.0</td>\n",
       "      <td>356.0</td>\n",
       "    </tr>\n",
       "  </tbody>\n",
       "</table>\n",
       "</div>"
      ],
      "text/plain": [
       "    BsmtQual BsmtCond BsmtExposure BsmtFinType1  BsmtFinSF1 BsmtFinType2  \\\n",
       "660      NaN      NaN          NaN          NaN         NaN          NaN   \n",
       "757      NaN       Fa           No          Unf         0.0          Unf   \n",
       "758      NaN       TA           No          Unf         0.0          Unf   \n",
       "\n",
       "     BsmtFinSF2  BsmtUnfSF  TotalBsmtSF  \n",
       "660         NaN        NaN          NaN  \n",
       "757         0.0      173.0        173.0  \n",
       "758         0.0      356.0        356.0  "
      ]
     },
     "execution_count": 37,
     "metadata": {},
     "output_type": "execute_result"
    }
   ],
   "source": [
    "testRaw[testRaw['BsmtQual'].isna()].loc[:,['BsmtQual', 'BsmtCond','BsmtExposure', 'BsmtFinType1', 'BsmtFinSF1','BsmtFinType2', 'BsmtFinSF2','BsmtUnfSF', 'TotalBsmtSF' ]]\\\n",
    ".loc[testRaw['BsmtUnfSF']!=0]"
   ]
  },
  {
   "cell_type": "markdown",
   "id": "58143cd5",
   "metadata": {},
   "source": [
    "These 3 records have basement quality listed as 'No Basment', the last two records however have values listed for basement features, can not interpolate basement quality from data recomend dropping records 757 and 758.\n",
    "For record 660 Set basement square footage columns to 0, replacing NA values to NONE in previous step will take care of the rest."
   ]
  },
  {
   "cell_type": "markdown",
   "id": "ce0ff012",
   "metadata": {},
   "source": [
    "**Missing Column, Kitchen**"
   ]
  },
  {
   "cell_type": "markdown",
   "id": "8e03c5fe",
   "metadata": {},
   "source": [
    "In the data dictionary file, a column named 'Kitchen' is listed, however the datafile has a column named 'KitchenAbvGr' instead"
   ]
  },
  {
   "cell_type": "markdown",
   "id": "c7cf514f",
   "metadata": {},
   "source": [
    "**Garage Existence Data Mismatch**"
   ]
  },
  {
   "cell_type": "code",
   "execution_count": 53,
   "id": "60962b38",
   "metadata": {},
   "outputs": [
    {
     "data": {
      "text/html": [
       "<div>\n",
       "<style scoped>\n",
       "    .dataframe tbody tr th:only-of-type {\n",
       "        vertical-align: middle;\n",
       "    }\n",
       "\n",
       "    .dataframe tbody tr th {\n",
       "        vertical-align: top;\n",
       "    }\n",
       "\n",
       "    .dataframe thead th {\n",
       "        text-align: right;\n",
       "    }\n",
       "</style>\n",
       "<table border=\"1\" class=\"dataframe\">\n",
       "  <thead>\n",
       "    <tr style=\"text-align: right;\">\n",
       "      <th></th>\n",
       "      <th>GarageType</th>\n",
       "      <th>GarageFinish</th>\n",
       "      <th>GarageCars</th>\n",
       "      <th>GarageArea</th>\n",
       "      <th>GarageQual</th>\n",
       "      <th>GarageCond</th>\n",
       "      <th>GarageYrBlt</th>\n",
       "    </tr>\n",
       "  </thead>\n",
       "  <tbody>\n",
       "    <tr>\n",
       "      <th>666</th>\n",
       "      <td>Detchd</td>\n",
       "      <td>NaN</td>\n",
       "      <td>1.0</td>\n",
       "      <td>360.0</td>\n",
       "      <td>NaN</td>\n",
       "      <td>NaN</td>\n",
       "      <td>NaN</td>\n",
       "    </tr>\n",
       "    <tr>\n",
       "      <th>1116</th>\n",
       "      <td>Detchd</td>\n",
       "      <td>NaN</td>\n",
       "      <td>NaN</td>\n",
       "      <td>NaN</td>\n",
       "      <td>NaN</td>\n",
       "      <td>NaN</td>\n",
       "      <td>NaN</td>\n",
       "    </tr>\n",
       "  </tbody>\n",
       "</table>\n",
       "</div>"
      ],
      "text/plain": [
       "     GarageType GarageFinish  GarageCars  GarageArea GarageQual GarageCond  \\\n",
       "666      Detchd          NaN         1.0       360.0        NaN        NaN   \n",
       "1116     Detchd          NaN         NaN         NaN        NaN        NaN   \n",
       "\n",
       "      GarageYrBlt  \n",
       "666           NaN  \n",
       "1116          NaN  "
      ]
     },
     "execution_count": 53,
     "metadata": {},
     "output_type": "execute_result"
    }
   ],
   "source": [
    "testRaw[testRaw['GarageYrBlt'].isna()].loc[~testRaw['GarageType'].isna(), ['GarageType','GarageFinish', 'GarageCars', 'GarageArea', 'GarageQual', 'GarageCond', 'GarageYrBlt']]"
   ]
  },
  {
   "cell_type": "markdown",
   "id": "c7bff7a1",
   "metadata": {},
   "source": [
    "2 records with garage existence listed but limited values listed for the rest with no legal option for NaN, consider dropping records 666, 1116"
   ]
  },
  {
   "cell_type": "markdown",
   "id": "78962694",
   "metadata": {},
   "source": [
    "# Clean Data"
   ]
  },
  {
   "cell_type": "markdown",
   "id": "2a63b295",
   "metadata": {},
   "source": [
    "## Drop Problematic records by row index\n",
    "**Previously documented 4 records with uniterpolatable illegal NA values**\n"
   ]
  },
  {
   "cell_type": "code",
   "execution_count": 92,
   "id": "53bf8017",
   "metadata": {},
   "outputs": [
    {
     "name": "stdout",
     "output_type": "stream",
     "text": [
      "(1459, 80)\n"
     ]
    },
    {
     "data": {
      "text/plain": [
       "(1455, 80)"
      ]
     },
     "execution_count": 92,
     "metadata": {},
     "output_type": "execute_result"
    }
   ],
   "source": [
    "print(testRaw.shape)\n",
    "testClean = testRaw.drop([757, 758, 666, 1116])\n",
    "testClean.shape"
   ]
  },
  {
   "cell_type": "markdown",
   "id": "07bbf5fb",
   "metadata": {},
   "source": [
    "## Drop Rows with Ilegal NA values in Suspected High Importance Columns"
   ]
  },
  {
   "cell_type": "code",
   "execution_count": 93,
   "id": "0d802837",
   "metadata": {},
   "outputs": [],
   "source": [
    "dropImportant = ['MSZoning','Utilities','KitchenQual','Functional']"
   ]
  },
  {
   "cell_type": "code",
   "execution_count": 94,
   "id": "386fe5bb",
   "metadata": {},
   "outputs": [
    {
     "data": {
      "text/plain": [
       "(1448, 80)"
      ]
     },
     "execution_count": 94,
     "metadata": {},
     "output_type": "execute_result"
    }
   ],
   "source": [
    "testClean = testClean.loc[~testClean['MSZoning'].isna() & ~testClean['Utilities'].isna() & ~testClean['KitchenQual'].isna() & ~testClean['Functional'].isna()]\n",
    "testClean.shape"
   ]
  },
  {
   "cell_type": "markdown",
   "id": "80d9e67e",
   "metadata": {},
   "source": [
    "## Change NA value of certain columns where NA has meaning to None"
   ]
  },
  {
   "cell_type": "code",
   "execution_count": 95,
   "id": "527c6ff6",
   "metadata": {},
   "outputs": [],
   "source": [
    "for i in range(len(naMask)):\n",
    "    testClean[naMask[i]].fillna('None', inplace = True)"
   ]
  },
  {
   "cell_type": "markdown",
   "id": "78d68f0c",
   "metadata": {},
   "source": [
    "## Change Specific NA values depending on Context  "
   ]
  },
  {
   "cell_type": "markdown",
   "id": "9951c399",
   "metadata": {},
   "source": [
    "**LotFrontage Variable has 227 NA values, but no values equal to zero, assuming NA means 0**"
   ]
  },
  {
   "cell_type": "code",
   "execution_count": 96,
   "id": "02165661",
   "metadata": {},
   "outputs": [],
   "source": [
    "testClean.LotFrontage.fillna(0, inplace = True)"
   ]
  },
  {
   "cell_type": "markdown",
   "id": "98c81486",
   "metadata": {},
   "source": [
    "**Exterior1st has 1 NA value, convert to 'Other'**"
   ]
  },
  {
   "cell_type": "code",
   "execution_count": 97,
   "id": "31398a50",
   "metadata": {},
   "outputs": [],
   "source": [
    "testClean.Exterior1st.fillna('Other', inplace = True)"
   ]
  },
  {
   "cell_type": "markdown",
   "id": "dbe14388",
   "metadata": {},
   "source": [
    "**Exterior2nd has 1 NA value, convert to 'Other'**"
   ]
  },
  {
   "cell_type": "code",
   "execution_count": 98,
   "id": "de422539",
   "metadata": {},
   "outputs": [],
   "source": [
    "testClean.Exterior2nd.fillna('Other', inplace = True)"
   ]
  },
  {
   "cell_type": "markdown",
   "id": "fb69b44b",
   "metadata": {},
   "source": [
    "**MasVnrType has 16 NA values, convert to None**"
   ]
  },
  {
   "cell_type": "code",
   "execution_count": 99,
   "id": "ece10c0b",
   "metadata": {},
   "outputs": [],
   "source": [
    "testClean.MasVnrType.fillna('None', inplace = True)"
   ]
  },
  {
   "cell_type": "markdown",
   "id": "039d2cf9",
   "metadata": {},
   "source": [
    "**MasVnrArea has 15 NA values corresponding to the NAs in previous category, change to 0**"
   ]
  },
  {
   "cell_type": "code",
   "execution_count": 100,
   "id": "ef837c1c",
   "metadata": {},
   "outputs": [],
   "source": [
    "testClean.MasVnrArea.fillna(0, inplace = True)"
   ]
  },
  {
   "cell_type": "markdown",
   "id": "d095edd6",
   "metadata": {},
   "source": [
    "**TotalBsmtSF has 1 NA value, change to 0**"
   ]
  },
  {
   "cell_type": "code",
   "execution_count": 110,
   "id": "9cb68954",
   "metadata": {},
   "outputs": [],
   "source": [
    "testClean.TotalBsmtSF.fillna(0, inplace = True)"
   ]
  },
  {
   "cell_type": "markdown",
   "id": "6865eb03",
   "metadata": {},
   "source": [
    "**BsmtFinSF1 has 1 NA value, change to 0**"
   ]
  },
  {
   "cell_type": "code",
   "execution_count": 101,
   "id": "d1c510ce",
   "metadata": {},
   "outputs": [],
   "source": [
    "testClean.BsmtFinSF1.fillna(0, inplace = True)"
   ]
  },
  {
   "cell_type": "markdown",
   "id": "971dc3e0",
   "metadata": {},
   "source": [
    "**BsmtFinSF2 has 1 NA value, change to 0**"
   ]
  },
  {
   "cell_type": "code",
   "execution_count": 102,
   "id": "dc65b698",
   "metadata": {},
   "outputs": [],
   "source": [
    "testClean.BsmtFinSF2.fillna(0, inplace = True)"
   ]
  },
  {
   "cell_type": "markdown",
   "id": "b4574151",
   "metadata": {},
   "source": [
    "**BsmtUnfSF has 1 NA value, change to 0**"
   ]
  },
  {
   "cell_type": "code",
   "execution_count": 103,
   "id": "982ee9ad",
   "metadata": {},
   "outputs": [],
   "source": [
    "testClean.BsmtUnfSF.fillna(0, inplace = True)"
   ]
  },
  {
   "cell_type": "markdown",
   "id": "f29c6020",
   "metadata": {},
   "source": [
    "**BsmtFullBath has 2 NAs, but records say there is no basement, change to zero**"
   ]
  },
  {
   "cell_type": "code",
   "execution_count": 104,
   "id": "1e3ae478",
   "metadata": {},
   "outputs": [],
   "source": [
    "testClean.BsmtFullBath.fillna(0, inplace = True)"
   ]
  },
  {
   "cell_type": "markdown",
   "id": "3d4e49e5",
   "metadata": {},
   "source": [
    "**BsmtHalfBath has 2 NAs, but records say there is no basement, change to zero**"
   ]
  },
  {
   "cell_type": "code",
   "execution_count": 105,
   "id": "e42a93cc",
   "metadata": {},
   "outputs": [],
   "source": [
    "testClean.BsmtHalfBath.fillna(0, inplace = True)"
   ]
  },
  {
   "cell_type": "markdown",
   "id": "377c619f",
   "metadata": {},
   "source": [
    "**SaleType, has 1 NA value, change to 'Oth'**"
   ]
  },
  {
   "cell_type": "code",
   "execution_count": 106,
   "id": "3885eb9f",
   "metadata": {},
   "outputs": [],
   "source": [
    "testClean.SaleType.fillna('Oth', inplace = True)"
   ]
  },
  {
   "cell_type": "markdown",
   "id": "1d0ce21e",
   "metadata": {},
   "source": [
    "## Check to see if we elimanted all NA values"
   ]
  },
  {
   "cell_type": "code",
   "execution_count": 111,
   "id": "e21e6390",
   "metadata": {},
   "outputs": [
    {
     "data": {
      "text/plain": [
       "Id               0\n",
       "MSSubClass       0\n",
       "MSZoning         0\n",
       "LotFrontage      0\n",
       "LotArea          0\n",
       "Street           0\n",
       "Alley            0\n",
       "LotShape         0\n",
       "LandContour      0\n",
       "Utilities        0\n",
       "LotConfig        0\n",
       "LandSlope        0\n",
       "Neighborhood     0\n",
       "Condition1       0\n",
       "Condition2       0\n",
       "BldgType         0\n",
       "HouseStyle       0\n",
       "OverallQual      0\n",
       "OverallCond      0\n",
       "YearBuilt        0\n",
       "YearRemodAdd     0\n",
       "RoofStyle        0\n",
       "RoofMatl         0\n",
       "Exterior1st      0\n",
       "Exterior2nd      0\n",
       "MasVnrType       0\n",
       "MasVnrArea       0\n",
       "ExterQual        0\n",
       "ExterCond        0\n",
       "Foundation       0\n",
       "BsmtQual         0\n",
       "BsmtCond         0\n",
       "BsmtExposure     0\n",
       "BsmtFinType1     0\n",
       "BsmtFinSF1       0\n",
       "BsmtFinType2     0\n",
       "BsmtFinSF2       0\n",
       "BsmtUnfSF        0\n",
       "TotalBsmtSF      0\n",
       "Heating          0\n",
       "HeatingQC        0\n",
       "CentralAir       0\n",
       "Electrical       0\n",
       "1stFlrSF         0\n",
       "2ndFlrSF         0\n",
       "LowQualFinSF     0\n",
       "GrLivArea        0\n",
       "BsmtFullBath     0\n",
       "BsmtHalfBath     0\n",
       "FullBath         0\n",
       "HalfBath         0\n",
       "BedroomAbvGr     0\n",
       "KitchenAbvGr     0\n",
       "KitchenQual      0\n",
       "TotRmsAbvGrd     0\n",
       "Functional       0\n",
       "Fireplaces       0\n",
       "FireplaceQu      0\n",
       "GarageType       0\n",
       "GarageYrBlt      0\n",
       "GarageFinish     0\n",
       "GarageCars       0\n",
       "GarageArea       0\n",
       "GarageQual       0\n",
       "GarageCond       0\n",
       "PavedDrive       0\n",
       "WoodDeckSF       0\n",
       "OpenPorchSF      0\n",
       "EnclosedPorch    0\n",
       "3SsnPorch        0\n",
       "ScreenPorch      0\n",
       "PoolArea         0\n",
       "PoolQC           0\n",
       "Fence            0\n",
       "MiscFeature      0\n",
       "MiscVal          0\n",
       "MoSold           0\n",
       "YrSold           0\n",
       "SaleType         0\n",
       "SaleCondition    0\n",
       "dtype: int64"
      ]
     },
     "execution_count": 111,
     "metadata": {},
     "output_type": "execute_result"
    }
   ],
   "source": [
    "testClean.isna().sum(axis=0)"
   ]
  },
  {
   "cell_type": "markdown",
   "id": "131f42c0",
   "metadata": {},
   "source": [
    "## A Thing of Beauty Emerges, no NA values, save to new csv"
   ]
  },
  {
   "cell_type": "code",
   "execution_count": 113,
   "id": "dca47121",
   "metadata": {},
   "outputs": [],
   "source": [
    "testClean.to_csv('c:/Users/jmeis/NYC_DSA/HousingPrices/Data/testZeroNAs.csv')"
   ]
  },
  {
   "cell_type": "markdown",
   "id": "1be48de0",
   "metadata": {},
   "source": [
    "# Simple Feature Selection"
   ]
  },
  {
   "cell_type": "code",
   "execution_count": null,
   "id": "6bde1c12",
   "metadata": {},
   "outputs": [],
   "source": []
  }
 ],
 "metadata": {
  "kernelspec": {
   "display_name": "Python 3 (ipykernel)",
   "language": "python",
   "name": "python3"
  },
  "language_info": {
   "codemirror_mode": {
    "name": "ipython",
    "version": 3
   },
   "file_extension": ".py",
   "mimetype": "text/x-python",
   "name": "python",
   "nbconvert_exporter": "python",
   "pygments_lexer": "ipython3",
   "version": "3.8.12"
  }
 },
 "nbformat": 4,
 "nbformat_minor": 5
}
