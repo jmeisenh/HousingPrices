{
 "cells": [
  {
   "cell_type": "code",
   "execution_count": 1,
   "id": "afa374f0",
   "metadata": {},
   "outputs": [],
   "source": [
    "import pandas as pd\n",
    "import numpy as np\n",
    "import matplotlib.pyplot as plt\n",
    "import plotly.express as px\n",
    "import plotly.graph_objects as go\n",
    "from plotly.subplots import make_subplots"
   ]
  },
  {
   "cell_type": "markdown",
   "id": "2110d0e3",
   "metadata": {},
   "source": [
    "# Import Data for V1.0 Feature Selection"
   ]
  },
  {
   "cell_type": "code",
   "execution_count": 16,
   "id": "047bc75e",
   "metadata": {},
   "outputs": [],
   "source": [
    "X_train= pd.read_csv('C:/Users/jmeis/NYC_DSA/HousingPrices/Data/Version_1.0/x_Train.csv')\n",
    "X_test= pd.read_csv('C:/Users/jmeis/NYC_DSA/HousingPrices/Data/Version_1.0/x_Test.csv')\n",
    "y_train= pd.read_csv('C:/Users/jmeis/NYC_DSA/HousingPrices/Data/Version_1.0/y_Train.csv')\n",
    "y_test= pd.read_csv('C:/Users/jmeis/NYC_DSA/HousingPrices/Data/Version_1.0/y_Test.csv')"
   ]
  },
  {
   "cell_type": "markdown",
   "id": "6e85ad3a",
   "metadata": {},
   "source": [
    "# Create Basic Linear Regression for comparison Purposes"
   ]
  },
  {
   "cell_type": "code",
   "execution_count": 19,
   "id": "6a3c6ea0",
   "metadata": {},
   "outputs": [
    {
     "data": {
      "text/plain": [
       "LogisticRegression(solver='liblinear')"
      ]
     },
     "execution_count": 19,
     "metadata": {},
     "output_type": "execute_result"
    }
   ],
   "source": [
    "def warn(*args, **kwargs):\n",
    "    pass\n",
    "import warnings\n",
    "warnings.warn = warn\n",
    "\n",
    "from sklearn.linear_model import LogisticRegression\n",
    "logit = LogisticRegression(solver='liblinear')\n",
    "logit.fit(X_train, y_train)"
   ]
  },
  {
   "cell_type": "code",
   "execution_count": 20,
   "id": "fc3fe36f",
   "metadata": {},
   "outputs": [
    {
     "data": {
      "text/plain": [
       "0.9841427155599604"
      ]
     },
     "execution_count": 20,
     "metadata": {},
     "output_type": "execute_result"
    }
   ],
   "source": [
    "logit.score(X_train, y_train)"
   ]
  },
  {
   "cell_type": "markdown",
   "id": "eb1f87b1",
   "metadata": {},
   "source": [
    "## Make Predicitions "
   ]
  },
  {
   "cell_type": "code",
   "execution_count": 28,
   "id": "df447fbc",
   "metadata": {},
   "outputs": [
    {
     "data": {
      "text/html": [
       "<div>\n",
       "<style scoped>\n",
       "    .dataframe tbody tr th:only-of-type {\n",
       "        vertical-align: middle;\n",
       "    }\n",
       "\n",
       "    .dataframe tbody tr th {\n",
       "        vertical-align: top;\n",
       "    }\n",
       "\n",
       "    .dataframe thead th {\n",
       "        text-align: right;\n",
       "    }\n",
       "</style>\n",
       "<table border=\"1\" class=\"dataframe\">\n",
       "  <thead>\n",
       "    <tr style=\"text-align: right;\">\n",
       "      <th></th>\n",
       "      <th>Predicted</th>\n",
       "      <th>Actual</th>\n",
       "    </tr>\n",
       "  </thead>\n",
       "  <tbody>\n",
       "    <tr>\n",
       "      <th>0</th>\n",
       "      <td>244000</td>\n",
       "      <td>136000</td>\n",
       "    </tr>\n",
       "    <tr>\n",
       "      <th>1</th>\n",
       "      <td>174000</td>\n",
       "      <td>194201</td>\n",
       "    </tr>\n",
       "    <tr>\n",
       "      <th>2</th>\n",
       "      <td>287000</td>\n",
       "      <td>294000</td>\n",
       "    </tr>\n",
       "    <tr>\n",
       "      <th>3</th>\n",
       "      <td>167000</td>\n",
       "      <td>132000</td>\n",
       "    </tr>\n",
       "    <tr>\n",
       "      <th>4</th>\n",
       "      <td>128000</td>\n",
       "      <td>119000</td>\n",
       "    </tr>\n",
       "    <tr>\n",
       "      <th>...</th>\n",
       "      <td>...</td>\n",
       "      <td>...</td>\n",
       "    </tr>\n",
       "    <tr>\n",
       "      <th>428</th>\n",
       "      <td>309000</td>\n",
       "      <td>274725</td>\n",
       "    </tr>\n",
       "    <tr>\n",
       "      <th>429</th>\n",
       "      <td>97000</td>\n",
       "      <td>84000</td>\n",
       "    </tr>\n",
       "    <tr>\n",
       "      <th>430</th>\n",
       "      <td>361919</td>\n",
       "      <td>485000</td>\n",
       "    </tr>\n",
       "    <tr>\n",
       "      <th>431</th>\n",
       "      <td>185000</td>\n",
       "      <td>215000</td>\n",
       "    </tr>\n",
       "    <tr>\n",
       "      <th>432</th>\n",
       "      <td>251000</td>\n",
       "      <td>328900</td>\n",
       "    </tr>\n",
       "  </tbody>\n",
       "</table>\n",
       "<p>433 rows × 2 columns</p>\n",
       "</div>"
      ],
      "text/plain": [
       "     Predicted  Actual\n",
       "0       244000  136000\n",
       "1       174000  194201\n",
       "2       287000  294000\n",
       "3       167000  132000\n",
       "4       128000  119000\n",
       "..         ...     ...\n",
       "428     309000  274725\n",
       "429      97000   84000\n",
       "430     361919  485000\n",
       "431     185000  215000\n",
       "432     251000  328900\n",
       "\n",
       "[433 rows x 2 columns]"
      ]
     },
     "execution_count": 28,
     "metadata": {},
     "output_type": "execute_result"
    }
   ],
   "source": [
    "PredLin = pd.concat([pd.Series(logit.predict(X_test)), y_test], axis = 1)\n",
    "PredLin.columns = ['Predicted', 'Actual']\n",
    "PredLin\n"
   ]
  },
  {
   "cell_type": "markdown",
   "id": "a37bc959",
   "metadata": {},
   "source": [
    "## Let's Score Ourselves"
   ]
  },
  {
   "cell_type": "code",
   "execution_count": 35,
   "id": "7ae731b8",
   "metadata": {},
   "outputs": [
    {
     "data": {
      "text/plain": [
       "1287134913755"
      ]
     },
     "execution_count": 35,
     "metadata": {},
     "output_type": "execute_result"
    }
   ],
   "source": [
    "PredLin['Difference']=(PredLin['Predicted'] - PredLin['Actual'])**2\n",
    "RSS = PredLin.Difference.sum()\n",
    "RSS"
   ]
  },
  {
   "cell_type": "code",
   "execution_count": 38,
   "id": "dadc1f97",
   "metadata": {},
   "outputs": [
    {
     "data": {
      "text/plain": [
       "54521.536600180334"
      ]
     },
     "execution_count": 38,
     "metadata": {},
     "output_type": "execute_result"
    }
   ],
   "source": [
    "Average = PredLin.Difference.mean()**.5\n",
    "Average"
   ]
  },
  {
   "cell_type": "code",
   "execution_count": 39,
   "id": "6716d2c9",
   "metadata": {},
   "outputs": [
    {
     "data": {
      "text/plain": [
       "0.006928406466512702"
      ]
     },
     "execution_count": 39,
     "metadata": {},
     "output_type": "execute_result"
    }
   ],
   "source": [
    "logit.score(X_test, y_test)"
   ]
  },
  {
   "cell_type": "markdown",
   "id": "7a13e64f",
   "metadata": {},
   "source": [
    "**Yeah.......that's bad.....**"
   ]
  },
  {
   "cell_type": "markdown",
   "id": "e8a48d72",
   "metadata": {},
   "source": [
    "# Fit an ElasticNet Model With GridSearch"
   ]
  },
  {
   "cell_type": "code",
   "execution_count": 41,
   "id": "8750769d",
   "metadata": {},
   "outputs": [],
   "source": [
    "from sklearn.linear_model import ElasticNet\n",
    "from sklearn.model_selection import GridSearchCV\n",
    "parametersGrid = {\"max_iter\": [1, 5, 10],\n",
    "                \"alpha\": [0.0001, 0.001, 0.01, 0.1, 1, 10, 100],\n",
    "                \"l1_ratio\": np.arange(0.0, 1.0, 0.1)}\n",
    "eNet = ElasticNet()\n",
    "grid = GridSearchCV(eNet, parametersGrid, scoring='r2', cv=10)\n",
    "grid.fit(X_train, y_train)\n",
    "pred = grid.predict(X_test)\n",
    "    "
   ]
  },
  {
   "cell_type": "code",
   "execution_count": 43,
   "id": "0fa7277d",
   "metadata": {},
   "outputs": [
    {
     "data": {
      "text/html": [
       "<div>\n",
       "<style scoped>\n",
       "    .dataframe tbody tr th:only-of-type {\n",
       "        vertical-align: middle;\n",
       "    }\n",
       "\n",
       "    .dataframe tbody tr th {\n",
       "        vertical-align: top;\n",
       "    }\n",
       "\n",
       "    .dataframe thead th {\n",
       "        text-align: right;\n",
       "    }\n",
       "</style>\n",
       "<table border=\"1\" class=\"dataframe\">\n",
       "  <thead>\n",
       "    <tr style=\"text-align: right;\">\n",
       "      <th></th>\n",
       "      <th>Predicted</th>\n",
       "      <th>Actual</th>\n",
       "    </tr>\n",
       "  </thead>\n",
       "  <tbody>\n",
       "    <tr>\n",
       "      <th>0</th>\n",
       "      <td>131303.775432</td>\n",
       "      <td>136000</td>\n",
       "    </tr>\n",
       "    <tr>\n",
       "      <th>1</th>\n",
       "      <td>228804.665819</td>\n",
       "      <td>194201</td>\n",
       "    </tr>\n",
       "    <tr>\n",
       "      <th>2</th>\n",
       "      <td>259298.482571</td>\n",
       "      <td>294000</td>\n",
       "    </tr>\n",
       "    <tr>\n",
       "      <th>3</th>\n",
       "      <td>159068.195721</td>\n",
       "      <td>132000</td>\n",
       "    </tr>\n",
       "    <tr>\n",
       "      <th>4</th>\n",
       "      <td>103835.620502</td>\n",
       "      <td>119000</td>\n",
       "    </tr>\n",
       "    <tr>\n",
       "      <th>...</th>\n",
       "      <td>...</td>\n",
       "      <td>...</td>\n",
       "    </tr>\n",
       "    <tr>\n",
       "      <th>428</th>\n",
       "      <td>244651.207131</td>\n",
       "      <td>274725</td>\n",
       "    </tr>\n",
       "    <tr>\n",
       "      <th>429</th>\n",
       "      <td>60714.823459</td>\n",
       "      <td>84000</td>\n",
       "    </tr>\n",
       "    <tr>\n",
       "      <th>430</th>\n",
       "      <td>427173.293038</td>\n",
       "      <td>485000</td>\n",
       "    </tr>\n",
       "    <tr>\n",
       "      <th>431</th>\n",
       "      <td>214172.771764</td>\n",
       "      <td>215000</td>\n",
       "    </tr>\n",
       "    <tr>\n",
       "      <th>432</th>\n",
       "      <td>259349.740834</td>\n",
       "      <td>328900</td>\n",
       "    </tr>\n",
       "  </tbody>\n",
       "</table>\n",
       "<p>433 rows × 2 columns</p>\n",
       "</div>"
      ],
      "text/plain": [
       "         Predicted  Actual\n",
       "0    131303.775432  136000\n",
       "1    228804.665819  194201\n",
       "2    259298.482571  294000\n",
       "3    159068.195721  132000\n",
       "4    103835.620502  119000\n",
       "..             ...     ...\n",
       "428  244651.207131  274725\n",
       "429   60714.823459   84000\n",
       "430  427173.293038  485000\n",
       "431  214172.771764  215000\n",
       "432  259349.740834  328900\n",
       "\n",
       "[433 rows x 2 columns]"
      ]
     },
     "execution_count": 43,
     "metadata": {},
     "output_type": "execute_result"
    }
   ],
   "source": [
    "PredGrid = pd.concat([pd.Series(pred), y_test], axis = 1)\n",
    "PredGrid.columns = ['Predicted', 'Actual']\n",
    "PredGrid"
   ]
  },
  {
   "cell_type": "markdown",
   "id": "836fe834",
   "metadata": {},
   "source": [
    "## Lets score ourselves"
   ]
  },
  {
   "cell_type": "code",
   "execution_count": 44,
   "id": "9a7569f9",
   "metadata": {},
   "outputs": [
    {
     "data": {
      "text/plain": [
       "319799827969.89417"
      ]
     },
     "execution_count": 44,
     "metadata": {},
     "output_type": "execute_result"
    }
   ],
   "source": [
    "PredGrid['Difference']=(PredGrid['Predicted'] - PredGrid['Actual'])**2\n",
    "PredGrid.Difference.sum()\n"
   ]
  },
  {
   "cell_type": "code",
   "execution_count": 45,
   "id": "fbe405f2",
   "metadata": {},
   "outputs": [
    {
     "data": {
      "text/plain": [
       "27176.60265802347"
      ]
     },
     "execution_count": 45,
     "metadata": {},
     "output_type": "execute_result"
    }
   ],
   "source": [
    "PredGrid.Difference.mean()**.5\n"
   ]
  },
  {
   "cell_type": "code",
   "execution_count": 46,
   "id": "cadffae8",
   "metadata": {},
   "outputs": [
    {
     "data": {
      "text/plain": [
       "0.8634328446890307"
      ]
     },
     "execution_count": 46,
     "metadata": {},
     "output_type": "execute_result"
    }
   ],
   "source": [
    "grid.score(X_test, y_test)"
   ]
  },
  {
   "cell_type": "code",
   "execution_count": 47,
   "id": "0362e48e",
   "metadata": {},
   "outputs": [
    {
     "data": {
      "text/plain": [
       "{'cv': 10,\n",
       " 'error_score': nan,\n",
       " 'estimator__alpha': 1.0,\n",
       " 'estimator__copy_X': True,\n",
       " 'estimator__fit_intercept': True,\n",
       " 'estimator__l1_ratio': 0.5,\n",
       " 'estimator__max_iter': 1000,\n",
       " 'estimator__normalize': 'deprecated',\n",
       " 'estimator__positive': False,\n",
       " 'estimator__precompute': False,\n",
       " 'estimator__random_state': None,\n",
       " 'estimator__selection': 'cyclic',\n",
       " 'estimator__tol': 0.0001,\n",
       " 'estimator__warm_start': False,\n",
       " 'estimator': ElasticNet(),\n",
       " 'n_jobs': None,\n",
       " 'param_grid': {'max_iter': [1, 5, 10],\n",
       "  'alpha': [0.0001, 0.001, 0.01, 0.1, 1, 10, 100],\n",
       "  'l1_ratio': array([0. , 0.1, 0.2, 0.3, 0.4, 0.5, 0.6, 0.7, 0.8, 0.9])},\n",
       " 'pre_dispatch': '2*n_jobs',\n",
       " 'refit': True,\n",
       " 'return_train_score': False,\n",
       " 'scoring': 'r2',\n",
       " 'verbose': 0}"
      ]
     },
     "execution_count": 47,
     "metadata": {},
     "output_type": "execute_result"
    }
   ],
   "source": [
    "grid.get_params()"
   ]
  },
  {
   "cell_type": "code",
   "execution_count": null,
   "id": "f62bbe97",
   "metadata": {},
   "outputs": [],
   "source": []
  }
 ],
 "metadata": {
  "kernelspec": {
   "display_name": "Python 3 (ipykernel)",
   "language": "python",
   "name": "python3"
  },
  "language_info": {
   "codemirror_mode": {
    "name": "ipython",
    "version": 3
   },
   "file_extension": ".py",
   "mimetype": "text/x-python",
   "name": "python",
   "nbconvert_exporter": "python",
   "pygments_lexer": "ipython3",
   "version": "3.8.12"
  }
 },
 "nbformat": 4,
 "nbformat_minor": 5
}
