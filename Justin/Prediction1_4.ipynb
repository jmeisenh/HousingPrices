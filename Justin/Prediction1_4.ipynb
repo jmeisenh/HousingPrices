{
 "cells": [
  {
   "cell_type": "code",
   "execution_count": 96,
   "id": "53ef0008",
   "metadata": {},
   "outputs": [],
   "source": [
    "import pandas as pd\n",
    "import numpy as np\n",
    "import matplotlib.pyplot as plt\n",
    "import plotly.express as px\n",
    "import plotly.graph_objects as go\n",
    "from plotly.subplots import make_subplots"
   ]
  },
  {
   "cell_type": "markdown",
   "id": "15211f6e",
   "metadata": {},
   "source": [
    "# Initialize DF"
   ]
  },
  {
   "cell_type": "code",
   "execution_count": 97,
   "id": "6e9a38bb",
   "metadata": {},
   "outputs": [],
   "source": [
    "df = pd.read_csv('C:/Users/jmeis/NYC_DSA/HousingPrices/Data/testZeroNAs.csv')"
   ]
  },
  {
   "cell_type": "code",
   "execution_count": 98,
   "id": "bd7dd42e",
   "metadata": {},
   "outputs": [],
   "source": [
    "df.drop(['Id','Unnamed: 0' ], axis = 1, inplace = True)"
   ]
  },
  {
   "cell_type": "markdown",
   "id": "991999c4",
   "metadata": {},
   "source": [
    "# Begin Feature Selection"
   ]
  },
  {
   "cell_type": "code",
   "execution_count": 99,
   "id": "b5f26f83",
   "metadata": {},
   "outputs": [],
   "source": [
    "df['TotSq'] = df['TotalBsmtSF'] + df['1stFlrSF'] + df['2ndFlrSF']\n",
    "df['OutSq'] = df['3SsnPorch'] + df['EnclosedPorch'] + df['WoodDeckSF'] + df['OpenPorchSF'] + df['ScreenPorch']\n",
    "df['TotBr'] = df['FullBath'] + 0.5 * df['HalfBath'] + df['BsmtFullBath'] + 0.5 * df['BsmtHalfBath']"
   ]
  },
  {
   "cell_type": "code",
   "execution_count": 100,
   "id": "22511a74",
   "metadata": {},
   "outputs": [
    {
     "data": {
      "text/html": [
       "<div>\n",
       "<style scoped>\n",
       "    .dataframe tbody tr th:only-of-type {\n",
       "        vertical-align: middle;\n",
       "    }\n",
       "\n",
       "    .dataframe tbody tr th {\n",
       "        vertical-align: top;\n",
       "    }\n",
       "\n",
       "    .dataframe thead th {\n",
       "        text-align: right;\n",
       "    }\n",
       "</style>\n",
       "<table border=\"1\" class=\"dataframe\">\n",
       "  <thead>\n",
       "    <tr style=\"text-align: right;\">\n",
       "      <th></th>\n",
       "      <th>MSSubClass</th>\n",
       "      <th>MSZoning</th>\n",
       "      <th>LotFrontage</th>\n",
       "      <th>LotArea</th>\n",
       "      <th>Street</th>\n",
       "      <th>Alley</th>\n",
       "      <th>LotShape</th>\n",
       "      <th>LandContour</th>\n",
       "      <th>Utilities</th>\n",
       "      <th>LotConfig</th>\n",
       "      <th>...</th>\n",
       "      <th>Fence</th>\n",
       "      <th>MiscFeature</th>\n",
       "      <th>MiscVal</th>\n",
       "      <th>MoSold</th>\n",
       "      <th>YrSold</th>\n",
       "      <th>SaleType</th>\n",
       "      <th>SaleCondition</th>\n",
       "      <th>TotSq</th>\n",
       "      <th>OutSq</th>\n",
       "      <th>TotBr</th>\n",
       "    </tr>\n",
       "  </thead>\n",
       "  <tbody>\n",
       "    <tr>\n",
       "      <th>0</th>\n",
       "      <td>20</td>\n",
       "      <td>RH</td>\n",
       "      <td>80.0</td>\n",
       "      <td>11622</td>\n",
       "      <td>Pave</td>\n",
       "      <td>None</td>\n",
       "      <td>Reg</td>\n",
       "      <td>Lvl</td>\n",
       "      <td>AllPub</td>\n",
       "      <td>Inside</td>\n",
       "      <td>...</td>\n",
       "      <td>MnPrv</td>\n",
       "      <td>None</td>\n",
       "      <td>0</td>\n",
       "      <td>6</td>\n",
       "      <td>2010</td>\n",
       "      <td>WD</td>\n",
       "      <td>Normal</td>\n",
       "      <td>1778.0</td>\n",
       "      <td>260</td>\n",
       "      <td>1.0</td>\n",
       "    </tr>\n",
       "    <tr>\n",
       "      <th>1</th>\n",
       "      <td>20</td>\n",
       "      <td>RL</td>\n",
       "      <td>81.0</td>\n",
       "      <td>14267</td>\n",
       "      <td>Pave</td>\n",
       "      <td>None</td>\n",
       "      <td>IR1</td>\n",
       "      <td>Lvl</td>\n",
       "      <td>AllPub</td>\n",
       "      <td>Corner</td>\n",
       "      <td>...</td>\n",
       "      <td>None</td>\n",
       "      <td>Gar2</td>\n",
       "      <td>12500</td>\n",
       "      <td>6</td>\n",
       "      <td>2010</td>\n",
       "      <td>WD</td>\n",
       "      <td>Normal</td>\n",
       "      <td>2658.0</td>\n",
       "      <td>429</td>\n",
       "      <td>1.5</td>\n",
       "    </tr>\n",
       "    <tr>\n",
       "      <th>2</th>\n",
       "      <td>60</td>\n",
       "      <td>RL</td>\n",
       "      <td>74.0</td>\n",
       "      <td>13830</td>\n",
       "      <td>Pave</td>\n",
       "      <td>None</td>\n",
       "      <td>IR1</td>\n",
       "      <td>Lvl</td>\n",
       "      <td>AllPub</td>\n",
       "      <td>Inside</td>\n",
       "      <td>...</td>\n",
       "      <td>MnPrv</td>\n",
       "      <td>None</td>\n",
       "      <td>0</td>\n",
       "      <td>3</td>\n",
       "      <td>2010</td>\n",
       "      <td>WD</td>\n",
       "      <td>Normal</td>\n",
       "      <td>2557.0</td>\n",
       "      <td>246</td>\n",
       "      <td>2.5</td>\n",
       "    </tr>\n",
       "    <tr>\n",
       "      <th>3</th>\n",
       "      <td>60</td>\n",
       "      <td>RL</td>\n",
       "      <td>78.0</td>\n",
       "      <td>9978</td>\n",
       "      <td>Pave</td>\n",
       "      <td>None</td>\n",
       "      <td>IR1</td>\n",
       "      <td>Lvl</td>\n",
       "      <td>AllPub</td>\n",
       "      <td>Inside</td>\n",
       "      <td>...</td>\n",
       "      <td>None</td>\n",
       "      <td>None</td>\n",
       "      <td>0</td>\n",
       "      <td>6</td>\n",
       "      <td>2010</td>\n",
       "      <td>WD</td>\n",
       "      <td>Normal</td>\n",
       "      <td>2530.0</td>\n",
       "      <td>396</td>\n",
       "      <td>2.5</td>\n",
       "    </tr>\n",
       "    <tr>\n",
       "      <th>4</th>\n",
       "      <td>120</td>\n",
       "      <td>RL</td>\n",
       "      <td>43.0</td>\n",
       "      <td>5005</td>\n",
       "      <td>Pave</td>\n",
       "      <td>None</td>\n",
       "      <td>IR1</td>\n",
       "      <td>HLS</td>\n",
       "      <td>AllPub</td>\n",
       "      <td>Inside</td>\n",
       "      <td>...</td>\n",
       "      <td>None</td>\n",
       "      <td>None</td>\n",
       "      <td>0</td>\n",
       "      <td>1</td>\n",
       "      <td>2010</td>\n",
       "      <td>WD</td>\n",
       "      <td>Normal</td>\n",
       "      <td>2560.0</td>\n",
       "      <td>226</td>\n",
       "      <td>2.0</td>\n",
       "    </tr>\n",
       "    <tr>\n",
       "      <th>...</th>\n",
       "      <td>...</td>\n",
       "      <td>...</td>\n",
       "      <td>...</td>\n",
       "      <td>...</td>\n",
       "      <td>...</td>\n",
       "      <td>...</td>\n",
       "      <td>...</td>\n",
       "      <td>...</td>\n",
       "      <td>...</td>\n",
       "      <td>...</td>\n",
       "      <td>...</td>\n",
       "      <td>...</td>\n",
       "      <td>...</td>\n",
       "      <td>...</td>\n",
       "      <td>...</td>\n",
       "      <td>...</td>\n",
       "      <td>...</td>\n",
       "      <td>...</td>\n",
       "      <td>...</td>\n",
       "      <td>...</td>\n",
       "      <td>...</td>\n",
       "    </tr>\n",
       "    <tr>\n",
       "      <th>1443</th>\n",
       "      <td>160</td>\n",
       "      <td>RM</td>\n",
       "      <td>21.0</td>\n",
       "      <td>1936</td>\n",
       "      <td>Pave</td>\n",
       "      <td>None</td>\n",
       "      <td>Reg</td>\n",
       "      <td>Lvl</td>\n",
       "      <td>AllPub</td>\n",
       "      <td>Inside</td>\n",
       "      <td>...</td>\n",
       "      <td>None</td>\n",
       "      <td>None</td>\n",
       "      <td>0</td>\n",
       "      <td>6</td>\n",
       "      <td>2006</td>\n",
       "      <td>WD</td>\n",
       "      <td>Normal</td>\n",
       "      <td>1638.0</td>\n",
       "      <td>0</td>\n",
       "      <td>1.5</td>\n",
       "    </tr>\n",
       "    <tr>\n",
       "      <th>1444</th>\n",
       "      <td>160</td>\n",
       "      <td>RM</td>\n",
       "      <td>21.0</td>\n",
       "      <td>1894</td>\n",
       "      <td>Pave</td>\n",
       "      <td>None</td>\n",
       "      <td>Reg</td>\n",
       "      <td>Lvl</td>\n",
       "      <td>AllPub</td>\n",
       "      <td>Inside</td>\n",
       "      <td>...</td>\n",
       "      <td>None</td>\n",
       "      <td>None</td>\n",
       "      <td>0</td>\n",
       "      <td>4</td>\n",
       "      <td>2006</td>\n",
       "      <td>WD</td>\n",
       "      <td>Abnorml</td>\n",
       "      <td>1638.0</td>\n",
       "      <td>24</td>\n",
       "      <td>1.5</td>\n",
       "    </tr>\n",
       "    <tr>\n",
       "      <th>1445</th>\n",
       "      <td>20</td>\n",
       "      <td>RL</td>\n",
       "      <td>160.0</td>\n",
       "      <td>20000</td>\n",
       "      <td>Pave</td>\n",
       "      <td>None</td>\n",
       "      <td>Reg</td>\n",
       "      <td>Lvl</td>\n",
       "      <td>AllPub</td>\n",
       "      <td>Inside</td>\n",
       "      <td>...</td>\n",
       "      <td>None</td>\n",
       "      <td>None</td>\n",
       "      <td>0</td>\n",
       "      <td>9</td>\n",
       "      <td>2006</td>\n",
       "      <td>WD</td>\n",
       "      <td>Abnorml</td>\n",
       "      <td>2448.0</td>\n",
       "      <td>474</td>\n",
       "      <td>2.0</td>\n",
       "    </tr>\n",
       "    <tr>\n",
       "      <th>1446</th>\n",
       "      <td>85</td>\n",
       "      <td>RL</td>\n",
       "      <td>62.0</td>\n",
       "      <td>10441</td>\n",
       "      <td>Pave</td>\n",
       "      <td>None</td>\n",
       "      <td>Reg</td>\n",
       "      <td>Lvl</td>\n",
       "      <td>AllPub</td>\n",
       "      <td>Inside</td>\n",
       "      <td>...</td>\n",
       "      <td>MnPrv</td>\n",
       "      <td>Shed</td>\n",
       "      <td>700</td>\n",
       "      <td>7</td>\n",
       "      <td>2006</td>\n",
       "      <td>WD</td>\n",
       "      <td>Normal</td>\n",
       "      <td>1882.0</td>\n",
       "      <td>112</td>\n",
       "      <td>1.5</td>\n",
       "    </tr>\n",
       "    <tr>\n",
       "      <th>1447</th>\n",
       "      <td>60</td>\n",
       "      <td>RL</td>\n",
       "      <td>74.0</td>\n",
       "      <td>9627</td>\n",
       "      <td>Pave</td>\n",
       "      <td>None</td>\n",
       "      <td>Reg</td>\n",
       "      <td>Lvl</td>\n",
       "      <td>AllPub</td>\n",
       "      <td>Inside</td>\n",
       "      <td>...</td>\n",
       "      <td>None</td>\n",
       "      <td>None</td>\n",
       "      <td>0</td>\n",
       "      <td>11</td>\n",
       "      <td>2006</td>\n",
       "      <td>WD</td>\n",
       "      <td>Normal</td>\n",
       "      <td>2996.0</td>\n",
       "      <td>238</td>\n",
       "      <td>2.5</td>\n",
       "    </tr>\n",
       "  </tbody>\n",
       "</table>\n",
       "<p>1448 rows × 69 columns</p>\n",
       "</div>"
      ],
      "text/plain": [
       "      MSSubClass MSZoning  LotFrontage  LotArea Street Alley LotShape  \\\n",
       "0             20       RH         80.0    11622   Pave  None      Reg   \n",
       "1             20       RL         81.0    14267   Pave  None      IR1   \n",
       "2             60       RL         74.0    13830   Pave  None      IR1   \n",
       "3             60       RL         78.0     9978   Pave  None      IR1   \n",
       "4            120       RL         43.0     5005   Pave  None      IR1   \n",
       "...          ...      ...          ...      ...    ...   ...      ...   \n",
       "1443         160       RM         21.0     1936   Pave  None      Reg   \n",
       "1444         160       RM         21.0     1894   Pave  None      Reg   \n",
       "1445          20       RL        160.0    20000   Pave  None      Reg   \n",
       "1446          85       RL         62.0    10441   Pave  None      Reg   \n",
       "1447          60       RL         74.0     9627   Pave  None      Reg   \n",
       "\n",
       "     LandContour Utilities LotConfig  ...  Fence MiscFeature MiscVal MoSold  \\\n",
       "0            Lvl    AllPub    Inside  ...  MnPrv        None       0      6   \n",
       "1            Lvl    AllPub    Corner  ...   None        Gar2   12500      6   \n",
       "2            Lvl    AllPub    Inside  ...  MnPrv        None       0      3   \n",
       "3            Lvl    AllPub    Inside  ...   None        None       0      6   \n",
       "4            HLS    AllPub    Inside  ...   None        None       0      1   \n",
       "...          ...       ...       ...  ...    ...         ...     ...    ...   \n",
       "1443         Lvl    AllPub    Inside  ...   None        None       0      6   \n",
       "1444         Lvl    AllPub    Inside  ...   None        None       0      4   \n",
       "1445         Lvl    AllPub    Inside  ...   None        None       0      9   \n",
       "1446         Lvl    AllPub    Inside  ...  MnPrv        Shed     700      7   \n",
       "1447         Lvl    AllPub    Inside  ...   None        None       0     11   \n",
       "\n",
       "     YrSold SaleType  SaleCondition   TotSq  OutSq  TotBr  \n",
       "0      2010       WD         Normal  1778.0    260    1.0  \n",
       "1      2010       WD         Normal  2658.0    429    1.5  \n",
       "2      2010       WD         Normal  2557.0    246    2.5  \n",
       "3      2010       WD         Normal  2530.0    396    2.5  \n",
       "4      2010       WD         Normal  2560.0    226    2.0  \n",
       "...     ...      ...            ...     ...    ...    ...  \n",
       "1443   2006       WD         Normal  1638.0      0    1.5  \n",
       "1444   2006       WD        Abnorml  1638.0     24    1.5  \n",
       "1445   2006       WD        Abnorml  2448.0    474    2.0  \n",
       "1446   2006       WD         Normal  1882.0    112    1.5  \n",
       "1447   2006       WD         Normal  2996.0    238    2.5  \n",
       "\n",
       "[1448 rows x 69 columns]"
      ]
     },
     "execution_count": 100,
     "metadata": {},
     "output_type": "execute_result"
    }
   ],
   "source": [
    "df.drop(['GrLivArea'], axis =1, inplace = True)\n",
    "droplist = ['TotalBsmtSF', '1stFlrSF', '2ndFlrSF', '3SsnPorch', 'EnclosedPorch', 'WoodDeckSF', 'OpenPorchSF', 'ScreenPorch', 'FullBath', 'HalfBath', 'BsmtFullBath', 'BsmtHalfBath']\n",
    "df.drop(droplist, axis = 1, inplace = True)\n",
    "df"
   ]
  },
  {
   "cell_type": "code",
   "execution_count": 101,
   "id": "17e5313d",
   "metadata": {},
   "outputs": [],
   "source": [
    "QualityCols = ['OverallQual','OverallCond', 'ExterQual', 'ExterCond', 'BsmtQual', 'BsmtCond', 'KitchenQual', 'FireplaceQu', 'GarageQual', 'GarageCond', 'PoolQC' ]"
   ]
  },
  {
   "cell_type": "markdown",
   "id": "b4b07daf",
   "metadata": {},
   "source": [
    "## Convert Certain Nominal Categoricals to Ordinal"
   ]
  },
  {
   "cell_type": "code",
   "execution_count": 102,
   "id": "61a5637f",
   "metadata": {},
   "outputs": [
    {
     "data": {
      "text/plain": [
       "6     884\n",
       "8     491\n",
       "10     55\n",
       "4      18\n",
       "Name: ExterQual, dtype: int64"
      ]
     },
     "execution_count": 102,
     "metadata": {},
     "output_type": "execute_result"
    }
   ],
   "source": [
    "replaceDict = {'Ex': 10, 'Gd':8, 'TA': 6, 'Fa':4, 'Po':2}\n",
    "df = df.replace({'ExterQual': replaceDict})\n",
    "df.ExterQual.value_counts()"
   ]
  },
  {
   "cell_type": "code",
   "execution_count": 103,
   "id": "b1f9cb89",
   "metadata": {},
   "outputs": [
    {
     "data": {
      "text/plain": [
       "6     1249\n",
       "8      153\n",
       "4       36\n",
       "10       9\n",
       "2        1\n",
       "Name: ExterCond, dtype: int64"
      ]
     },
     "execution_count": 103,
     "metadata": {},
     "output_type": "execute_result"
    }
   ],
   "source": [
    "df = df.replace({'ExterCond': replaceDict})\n",
    "df.ExterCond.value_counts()"
   ]
  },
  {
   "cell_type": "code",
   "execution_count": 104,
   "id": "79ad4d59",
   "metadata": {},
   "outputs": [
    {
     "data": {
      "text/plain": [
       "6     630\n",
       "8     589\n",
       "10    137\n",
       "4      53\n",
       "0      39\n",
       "Name: BsmtQual, dtype: int64"
      ]
     },
     "execution_count": 104,
     "metadata": {},
     "output_type": "execute_result"
    }
   ],
   "source": [
    "replaceDict = {'Ex': 10, 'Gd':8, 'TA': 6, 'Fa':4, 'Po':2, 'None': 0}\n",
    "df = df.replace({'BsmtQual': replaceDict})\n",
    "df.BsmtQual.value_counts()"
   ]
  },
  {
   "cell_type": "code",
   "execution_count": 105,
   "id": "37219b7a",
   "metadata": {},
   "outputs": [
    {
     "data": {
      "text/plain": [
       "6    1290\n",
       "8      57\n",
       "4      56\n",
       "0      42\n",
       "2       3\n",
       "Name: BsmtCond, dtype: int64"
      ]
     },
     "execution_count": 105,
     "metadata": {},
     "output_type": "execute_result"
    }
   ],
   "source": [
    "replaceDict = {'Ex': 10, 'Gd':8, 'TA': 6, 'Fa':4, 'Po':2, 'None': 0}\n",
    "df = df.replace({'BsmtCond': replaceDict})\n",
    "df.BsmtCond.value_counts()"
   ]
  },
  {
   "cell_type": "code",
   "execution_count": 106,
   "id": "bd654dee",
   "metadata": {},
   "outputs": [
    {
     "data": {
      "text/plain": [
       "6    1289\n",
       "0      76\n",
       "4      72\n",
       "8      10\n",
       "2       1\n",
       "Name: GarageQual, dtype: int64"
      ]
     },
     "execution_count": 106,
     "metadata": {},
     "output_type": "execute_result"
    }
   ],
   "source": [
    "df = df.replace({'GarageQual': replaceDict})\n",
    "df.GarageQual.value_counts()"
   ]
  },
  {
   "cell_type": "code",
   "execution_count": 107,
   "id": "c2fdd6d2",
   "metadata": {},
   "outputs": [
    {
     "data": {
      "text/plain": [
       "6     1324\n",
       "0       76\n",
       "4       35\n",
       "8        6\n",
       "2        6\n",
       "10       1\n",
       "Name: GarageCond, dtype: int64"
      ]
     },
     "execution_count": 107,
     "metadata": {},
     "output_type": "execute_result"
    }
   ],
   "source": [
    "df = df.replace({'GarageCond': replaceDict})\n",
    "df.GarageCond.value_counts()"
   ]
  },
  {
   "cell_type": "code",
   "execution_count": 108,
   "id": "072a43fe",
   "metadata": {},
   "outputs": [
    {
     "data": {
      "text/plain": [
       "6     749\n",
       "8     564\n",
       "10    105\n",
       "4      30\n",
       "Name: KitchenQual, dtype: int64"
      ]
     },
     "execution_count": 108,
     "metadata": {},
     "output_type": "execute_result"
    }
   ],
   "source": [
    "df = df.replace({'KitchenQual': replaceDict})\n",
    "df.KitchenQual.value_counts()"
   ]
  },
  {
   "cell_type": "code",
   "execution_count": 109,
   "id": "4e344ee3",
   "metadata": {},
   "outputs": [
    {
     "data": {
      "text/plain": [
       "0     720\n",
       "8     363\n",
       "6     279\n",
       "4      41\n",
       "2      26\n",
       "10     19\n",
       "Name: FireplaceQu, dtype: int64"
      ]
     },
     "execution_count": 109,
     "metadata": {},
     "output_type": "execute_result"
    }
   ],
   "source": [
    "df = df.replace({'FireplaceQu': replaceDict})\n",
    "df.FireplaceQu.value_counts()"
   ]
  },
  {
   "cell_type": "code",
   "execution_count": 110,
   "id": "b4d8a0fa",
   "metadata": {},
   "outputs": [
    {
     "data": {
      "text/plain": [
       "0     1445\n",
       "10       2\n",
       "8        1\n",
       "Name: PoolQC, dtype: int64"
      ]
     },
     "execution_count": 110,
     "metadata": {},
     "output_type": "execute_result"
    }
   ],
   "source": [
    "df = df.replace({'PoolQC': replaceDict})\n",
    "df.PoolQC.value_counts()"
   ]
  },
  {
   "cell_type": "markdown",
   "id": "afcaf67e",
   "metadata": {},
   "source": [
    "## Create a Combined Quality Variable and a Combined Condition variable"
   ]
  },
  {
   "cell_type": "code",
   "execution_count": 111,
   "id": "9c41acf8",
   "metadata": {},
   "outputs": [],
   "source": [
    "dfOld = pd.read_csv('C:/Users/jmeis/NYC_DSA/HousingPrices/Data/trainZeroNAs.csv')\n",
    "dfOld['TotSq'] = dfOld['TotalBsmtSF'] + dfOld['1stFlrSF'] + dfOld['2ndFlrSF']\n",
    "dfOld['OutSq'] = dfOld['3SsnPorch'] + dfOld['EnclosedPorch'] + dfOld['WoodDeckSF'] + dfOld['OpenPorchSF'] + dfOld['ScreenPorch']\n",
    "dfOld['TotBr'] = dfOld['FullBath'] + 0.5 * dfOld['HalfBath'] + dfOld['BsmtFullBath'] + 0.5 * dfOld['BsmtHalfBath']"
   ]
  },
  {
   "cell_type": "code",
   "execution_count": 112,
   "id": "002ca0cc",
   "metadata": {},
   "outputs": [],
   "source": [
    "dfOld.drop(['GrLivArea'], axis =1, inplace = True)\n",
    "droplist = ['TotalBsmtSF', '1stFlrSF', '2ndFlrSF', '3SsnPorch', 'EnclosedPorch', 'WoodDeckSF', 'OpenPorchSF', 'ScreenPorch', 'FullBath', 'HalfBath', 'BsmtFullBath', 'BsmtHalfBath']\n",
    "dfOld.drop(droplist, axis = 1, inplace = True)"
   ]
  },
  {
   "cell_type": "code",
   "execution_count": 113,
   "id": "37a51eac",
   "metadata": {},
   "outputs": [],
   "source": [
    "dfOld = dfOld.replace({'ExterQual': replaceDict})\n",
    "dfOld = dfOld.replace({'ExterCond': replaceDict})\n",
    "dfOld = dfOld.replace({'BsmtQual': replaceDict})\n",
    "dfOld = dfOld.replace({'BsmtCond': replaceDict})\n",
    "dfOld = dfOld.replace({'GarageQual': replaceDict})\n",
    "dfOld = dfOld.replace({'GarageCond': replaceDict})\n",
    "dfOld = dfOld.replace({'KitchenQual': replaceDict})\n",
    "dfOld = dfOld.replace({'FireplaceQu': replaceDict})\n",
    "dfOld = dfOld.replace({'PoolQC': replaceDict})\n"
   ]
  },
  {
   "cell_type": "code",
   "execution_count": null,
   "id": "3faaa44b",
   "metadata": {},
   "outputs": [],
   "source": []
  },
  {
   "cell_type": "code",
   "execution_count": 114,
   "id": "ad6b56df",
   "metadata": {},
   "outputs": [],
   "source": [
    "dfTemp1 = df[['OverallQual','OverallCond', 'ExterQual', 'ExterCond', 'BsmtQual', 'BsmtCond', 'KitchenQual', 'FireplaceQu', 'GarageQual', 'GarageCond', 'PoolQC']]\n",
    "df['Quality'] = 0\n",
    "df['Condition'] = 0"
   ]
  },
  {
   "cell_type": "code",
   "execution_count": 115,
   "id": "63d55f12",
   "metadata": {},
   "outputs": [],
   "source": [
    "for i in ['OverallQual', 'ExterQual', 'BsmtQual', 'KitchenQual', 'FireplaceQu', 'GarageQual', 'PoolQC']:\n",
    "    df['Quality'] = df['Quality'] + (df[i] * dfOld.corr().SalePrice[i])"
   ]
  },
  {
   "cell_type": "code",
   "execution_count": 116,
   "id": "afab0048",
   "metadata": {},
   "outputs": [],
   "source": [
    "for i in ['OverallCond',  'ExterCond', 'BsmtCond', 'GarageCond']:\n",
    "    df['Condition'] = df['Condition'] + (df[i] * dfOld.corr().SalePrice[i])"
   ]
  },
  {
   "cell_type": "markdown",
   "id": "d4884007",
   "metadata": {},
   "source": [
    "### Drop Old Qual and Cond Columns"
   ]
  },
  {
   "cell_type": "code",
   "execution_count": 117,
   "id": "0afd1a8d",
   "metadata": {},
   "outputs": [],
   "source": [
    "for i in ['OverallQual','OverallCond', 'ExterQual', 'ExterCond', 'BsmtQual', 'BsmtCond', 'KitchenQual', 'FireplaceQu', 'GarageQual', 'GarageCond', 'PoolQC']:\n",
    "    df.drop(i, axis = 1, inplace = True)"
   ]
  },
  {
   "cell_type": "markdown",
   "id": "6392f410",
   "metadata": {},
   "source": [
    "### Convert None Values to 0"
   ]
  },
  {
   "cell_type": "code",
   "execution_count": 118,
   "id": "a9db9170",
   "metadata": {},
   "outputs": [],
   "source": [
    "df.loc[df['GarageYrBlt']=='None','GarageYrBlt' ] = 0\n",
    "df.GarageYrBlt = pd.to_numeric(df.GarageYrBlt)"
   ]
  },
  {
   "cell_type": "markdown",
   "id": "0d7c3930",
   "metadata": {},
   "source": [
    "## Convert Basement Finished and Unfinished Sq ft to percentage finished sq ft"
   ]
  },
  {
   "cell_type": "code",
   "execution_count": 119,
   "id": "686602c7",
   "metadata": {},
   "outputs": [],
   "source": [
    "df['BsmtPerFin'] = (df['BsmtFinSF1'] + df['BsmtFinSF2']) / (df['BsmtUnfSF']+ df['BsmtFinSF1'] + df['BsmtFinSF2'])\n",
    "df = df.drop(['BsmtFinSF2', 'BsmtFinSF1', 'BsmtUnfSF'], axis = 1)\n",
    "df['BsmtPerFin'] = df['BsmtPerFin'].fillna(0)"
   ]
  },
  {
   "cell_type": "markdown",
   "id": "8141d6ca",
   "metadata": {},
   "source": [
    "## Convert Basement Quality columns to numeric and average the two"
   ]
  },
  {
   "cell_type": "code",
   "execution_count": 120,
   "id": "f9ce1549",
   "metadata": {},
   "outputs": [
    {
     "data": {
      "text/plain": [
       "BsmtFinType1  BsmtFinType2\n",
       "1             1               415\n",
       "6             1               398\n",
       "5             1               166\n",
       "3             1               112\n",
       "4             1                85\n",
       "2             1                53\n",
       "0             0                39\n",
       "4             3                19\n",
       "5             4                15\n",
       "3             5                15\n",
       "5             3                14\n",
       "              2                12\n",
       "3             2                12\n",
       "6             5                11\n",
       "              3                10\n",
       "4             2                10\n",
       "3             4                 8\n",
       "2             3                 8\n",
       "3             6                 7\n",
       "2             6                 7\n",
       "              4                 7\n",
       "6             2                 7\n",
       "4             6                 5\n",
       "2             5                 5\n",
       "6             4                 5\n",
       "4             5                 2\n",
       "5             6                 1\n",
       "dtype: int64"
      ]
     },
     "execution_count": 120,
     "metadata": {},
     "output_type": "execute_result"
    }
   ],
   "source": [
    "replaceDict2 = {'None' : 0, 'Unf' : 1, 'LwQ' : 2, 'Rec' : 3, 'BLQ' : 4, 'ALQ' : 5, 'GLQ': 6}\n",
    "df = df.replace({'BsmtFinType1': replaceDict2, 'BsmtFinType2': replaceDict2})\n",
    "df.loc[:,['BsmtFinType1', 'BsmtFinType2']].value_counts()"
   ]
  },
  {
   "cell_type": "code",
   "execution_count": 121,
   "id": "e3133b58",
   "metadata": {},
   "outputs": [],
   "source": [
    "df['BsmtFinish'] = df['BsmtFinType1'] + df['BsmtFinType2']\n",
    "df = df.drop(['BsmtFinType1', 'BsmtFinType2'], axis = 1)"
   ]
  },
  {
   "cell_type": "markdown",
   "id": "ddfe654b",
   "metadata": {},
   "source": [
    "## Change Year Remolded and Year Built"
   ]
  },
  {
   "cell_type": "code",
   "execution_count": 122,
   "id": "aead8a6f",
   "metadata": {},
   "outputs": [],
   "source": [
    "df['RemodYN'] = np.where(df['YearBuilt'] == df['YearRemodAdd'], 'No', 'Yes')"
   ]
  },
  {
   "cell_type": "code",
   "execution_count": 123,
   "id": "17ad0505",
   "metadata": {},
   "outputs": [],
   "source": [
    "df= df.drop(['YearRemodAdd'], axis = 1)"
   ]
  },
  {
   "cell_type": "code",
   "execution_count": 124,
   "id": "d225ff7f",
   "metadata": {},
   "outputs": [],
   "source": [
    "df=df.drop(['YearBuilt'], axis = 1)"
   ]
  },
  {
   "cell_type": "markdown",
   "id": "f771d49a",
   "metadata": {},
   "source": [
    "## Garage Variables"
   ]
  },
  {
   "cell_type": "code",
   "execution_count": 125,
   "id": "36daf231",
   "metadata": {},
   "outputs": [],
   "source": [
    "df = df.drop(['GarageYrBlt','GarageArea'], axis = 1)"
   ]
  },
  {
   "cell_type": "markdown",
   "id": "1e98f529",
   "metadata": {},
   "source": [
    "## DropTotal Rooms, same info as number of bedrooms and Kitchens"
   ]
  },
  {
   "cell_type": "code",
   "execution_count": 126,
   "id": "ee47b150",
   "metadata": {},
   "outputs": [],
   "source": [
    "df = df.drop(['TotRmsAbvGrd'], axis =1)"
   ]
  },
  {
   "cell_type": "markdown",
   "id": "0ed9d4ee",
   "metadata": {},
   "source": [
    "## Drop Year Sold, weak correlation and p-value"
   ]
  },
  {
   "cell_type": "code",
   "execution_count": 127,
   "id": "bea80a8b",
   "metadata": {},
   "outputs": [],
   "source": [
    "df = df.drop(['YrSold'], axis = 1)"
   ]
  },
  {
   "cell_type": "markdown",
   "id": "f851be20",
   "metadata": {},
   "source": [
    "## Create  a significant Rooms variable"
   ]
  },
  {
   "cell_type": "code",
   "execution_count": 128,
   "id": "15b4f8dd",
   "metadata": {},
   "outputs": [],
   "source": [
    "df['SigRooms'] = df['BedroomAbvGr'] + df['KitchenAbvGr'] + df['TotBr']\n",
    "df=df.drop(['BedroomAbvGr', 'KitchenAbvGr', 'TotBr'], axis = 1)"
   ]
  },
  {
   "cell_type": "markdown",
   "id": "fac68b40",
   "metadata": {},
   "source": [
    "## Combine Quality and Condition columns"
   ]
  },
  {
   "cell_type": "code",
   "execution_count": 129,
   "id": "a75a10ed",
   "metadata": {},
   "outputs": [],
   "source": [
    "df['AvgConQual'] = (df['Quality'] + df['Condition'])/2\n",
    "df = df.drop(['Quality', 'Condition'], axis = 1)"
   ]
  },
  {
   "cell_type": "markdown",
   "id": "4c537b4e",
   "metadata": {},
   "source": [
    "## Convert MSSubClass into categorical"
   ]
  },
  {
   "cell_type": "code",
   "execution_count": 130,
   "id": "0995c6ef",
   "metadata": {},
   "outputs": [],
   "source": [
    "df['MSSubClass']=df['MSSubClass'].map(str)"
   ]
  },
  {
   "cell_type": "markdown",
   "id": "67ca6a89",
   "metadata": {},
   "source": [
    "## Create Dummy Columns and output CSV"
   ]
  },
  {
   "cell_type": "code",
   "execution_count": 131,
   "id": "d6a2d81b",
   "metadata": {},
   "outputs": [
    {
     "data": {
      "text/html": [
       "<div>\n",
       "<style scoped>\n",
       "    .dataframe tbody tr th:only-of-type {\n",
       "        vertical-align: middle;\n",
       "    }\n",
       "\n",
       "    .dataframe tbody tr th {\n",
       "        vertical-align: top;\n",
       "    }\n",
       "\n",
       "    .dataframe thead th {\n",
       "        text-align: right;\n",
       "    }\n",
       "</style>\n",
       "<table border=\"1\" class=\"dataframe\">\n",
       "  <thead>\n",
       "    <tr style=\"text-align: right;\">\n",
       "      <th></th>\n",
       "      <th>LotFrontage</th>\n",
       "      <th>LotArea</th>\n",
       "      <th>MasVnrArea</th>\n",
       "      <th>LowQualFinSF</th>\n",
       "      <th>Fireplaces</th>\n",
       "      <th>GarageCars</th>\n",
       "      <th>PoolArea</th>\n",
       "      <th>MiscVal</th>\n",
       "      <th>MoSold</th>\n",
       "      <th>TotSq</th>\n",
       "      <th>...</th>\n",
       "      <th>SaleType_ConLw</th>\n",
       "      <th>SaleType_New</th>\n",
       "      <th>SaleType_Oth</th>\n",
       "      <th>SaleType_WD</th>\n",
       "      <th>SaleCondition_AdjLand</th>\n",
       "      <th>SaleCondition_Alloca</th>\n",
       "      <th>SaleCondition_Family</th>\n",
       "      <th>SaleCondition_Normal</th>\n",
       "      <th>SaleCondition_Partial</th>\n",
       "      <th>RemodYN_Yes</th>\n",
       "    </tr>\n",
       "  </thead>\n",
       "  <tbody>\n",
       "    <tr>\n",
       "      <th>0</th>\n",
       "      <td>80.0</td>\n",
       "      <td>11622</td>\n",
       "      <td>0.0</td>\n",
       "      <td>0</td>\n",
       "      <td>0</td>\n",
       "      <td>1.0</td>\n",
       "      <td>0</td>\n",
       "      <td>0</td>\n",
       "      <td>6</td>\n",
       "      <td>1778.0</td>\n",
       "      <td>...</td>\n",
       "      <td>0</td>\n",
       "      <td>0</td>\n",
       "      <td>0</td>\n",
       "      <td>1</td>\n",
       "      <td>0</td>\n",
       "      <td>0</td>\n",
       "      <td>0</td>\n",
       "      <td>1</td>\n",
       "      <td>0</td>\n",
       "      <td>0</td>\n",
       "    </tr>\n",
       "    <tr>\n",
       "      <th>1</th>\n",
       "      <td>81.0</td>\n",
       "      <td>14267</td>\n",
       "      <td>108.0</td>\n",
       "      <td>0</td>\n",
       "      <td>0</td>\n",
       "      <td>1.0</td>\n",
       "      <td>0</td>\n",
       "      <td>12500</td>\n",
       "      <td>6</td>\n",
       "      <td>2658.0</td>\n",
       "      <td>...</td>\n",
       "      <td>0</td>\n",
       "      <td>0</td>\n",
       "      <td>0</td>\n",
       "      <td>1</td>\n",
       "      <td>0</td>\n",
       "      <td>0</td>\n",
       "      <td>0</td>\n",
       "      <td>1</td>\n",
       "      <td>0</td>\n",
       "      <td>0</td>\n",
       "    </tr>\n",
       "    <tr>\n",
       "      <th>2</th>\n",
       "      <td>74.0</td>\n",
       "      <td>13830</td>\n",
       "      <td>0.0</td>\n",
       "      <td>0</td>\n",
       "      <td>1</td>\n",
       "      <td>2.0</td>\n",
       "      <td>0</td>\n",
       "      <td>0</td>\n",
       "      <td>3</td>\n",
       "      <td>2557.0</td>\n",
       "      <td>...</td>\n",
       "      <td>0</td>\n",
       "      <td>0</td>\n",
       "      <td>0</td>\n",
       "      <td>1</td>\n",
       "      <td>0</td>\n",
       "      <td>0</td>\n",
       "      <td>0</td>\n",
       "      <td>1</td>\n",
       "      <td>0</td>\n",
       "      <td>1</td>\n",
       "    </tr>\n",
       "    <tr>\n",
       "      <th>3</th>\n",
       "      <td>78.0</td>\n",
       "      <td>9978</td>\n",
       "      <td>20.0</td>\n",
       "      <td>0</td>\n",
       "      <td>1</td>\n",
       "      <td>2.0</td>\n",
       "      <td>0</td>\n",
       "      <td>0</td>\n",
       "      <td>6</td>\n",
       "      <td>2530.0</td>\n",
       "      <td>...</td>\n",
       "      <td>0</td>\n",
       "      <td>0</td>\n",
       "      <td>0</td>\n",
       "      <td>1</td>\n",
       "      <td>0</td>\n",
       "      <td>0</td>\n",
       "      <td>0</td>\n",
       "      <td>1</td>\n",
       "      <td>0</td>\n",
       "      <td>0</td>\n",
       "    </tr>\n",
       "    <tr>\n",
       "      <th>4</th>\n",
       "      <td>43.0</td>\n",
       "      <td>5005</td>\n",
       "      <td>0.0</td>\n",
       "      <td>0</td>\n",
       "      <td>0</td>\n",
       "      <td>2.0</td>\n",
       "      <td>0</td>\n",
       "      <td>0</td>\n",
       "      <td>1</td>\n",
       "      <td>2560.0</td>\n",
       "      <td>...</td>\n",
       "      <td>0</td>\n",
       "      <td>0</td>\n",
       "      <td>0</td>\n",
       "      <td>1</td>\n",
       "      <td>0</td>\n",
       "      <td>0</td>\n",
       "      <td>0</td>\n",
       "      <td>1</td>\n",
       "      <td>0</td>\n",
       "      <td>0</td>\n",
       "    </tr>\n",
       "    <tr>\n",
       "      <th>...</th>\n",
       "      <td>...</td>\n",
       "      <td>...</td>\n",
       "      <td>...</td>\n",
       "      <td>...</td>\n",
       "      <td>...</td>\n",
       "      <td>...</td>\n",
       "      <td>...</td>\n",
       "      <td>...</td>\n",
       "      <td>...</td>\n",
       "      <td>...</td>\n",
       "      <td>...</td>\n",
       "      <td>...</td>\n",
       "      <td>...</td>\n",
       "      <td>...</td>\n",
       "      <td>...</td>\n",
       "      <td>...</td>\n",
       "      <td>...</td>\n",
       "      <td>...</td>\n",
       "      <td>...</td>\n",
       "      <td>...</td>\n",
       "      <td>...</td>\n",
       "    </tr>\n",
       "    <tr>\n",
       "      <th>1443</th>\n",
       "      <td>21.0</td>\n",
       "      <td>1936</td>\n",
       "      <td>0.0</td>\n",
       "      <td>0</td>\n",
       "      <td>0</td>\n",
       "      <td>0.0</td>\n",
       "      <td>0</td>\n",
       "      <td>0</td>\n",
       "      <td>6</td>\n",
       "      <td>1638.0</td>\n",
       "      <td>...</td>\n",
       "      <td>0</td>\n",
       "      <td>0</td>\n",
       "      <td>0</td>\n",
       "      <td>1</td>\n",
       "      <td>0</td>\n",
       "      <td>0</td>\n",
       "      <td>0</td>\n",
       "      <td>1</td>\n",
       "      <td>0</td>\n",
       "      <td>0</td>\n",
       "    </tr>\n",
       "    <tr>\n",
       "      <th>1444</th>\n",
       "      <td>21.0</td>\n",
       "      <td>1894</td>\n",
       "      <td>0.0</td>\n",
       "      <td>0</td>\n",
       "      <td>0</td>\n",
       "      <td>1.0</td>\n",
       "      <td>0</td>\n",
       "      <td>0</td>\n",
       "      <td>4</td>\n",
       "      <td>1638.0</td>\n",
       "      <td>...</td>\n",
       "      <td>0</td>\n",
       "      <td>0</td>\n",
       "      <td>0</td>\n",
       "      <td>1</td>\n",
       "      <td>0</td>\n",
       "      <td>0</td>\n",
       "      <td>0</td>\n",
       "      <td>0</td>\n",
       "      <td>0</td>\n",
       "      <td>0</td>\n",
       "    </tr>\n",
       "    <tr>\n",
       "      <th>1445</th>\n",
       "      <td>160.0</td>\n",
       "      <td>20000</td>\n",
       "      <td>0.0</td>\n",
       "      <td>0</td>\n",
       "      <td>1</td>\n",
       "      <td>2.0</td>\n",
       "      <td>0</td>\n",
       "      <td>0</td>\n",
       "      <td>9</td>\n",
       "      <td>2448.0</td>\n",
       "      <td>...</td>\n",
       "      <td>0</td>\n",
       "      <td>0</td>\n",
       "      <td>0</td>\n",
       "      <td>1</td>\n",
       "      <td>0</td>\n",
       "      <td>0</td>\n",
       "      <td>0</td>\n",
       "      <td>0</td>\n",
       "      <td>0</td>\n",
       "      <td>1</td>\n",
       "    </tr>\n",
       "    <tr>\n",
       "      <th>1446</th>\n",
       "      <td>62.0</td>\n",
       "      <td>10441</td>\n",
       "      <td>0.0</td>\n",
       "      <td>0</td>\n",
       "      <td>0</td>\n",
       "      <td>0.0</td>\n",
       "      <td>0</td>\n",
       "      <td>700</td>\n",
       "      <td>7</td>\n",
       "      <td>1882.0</td>\n",
       "      <td>...</td>\n",
       "      <td>0</td>\n",
       "      <td>0</td>\n",
       "      <td>0</td>\n",
       "      <td>1</td>\n",
       "      <td>0</td>\n",
       "      <td>0</td>\n",
       "      <td>0</td>\n",
       "      <td>1</td>\n",
       "      <td>0</td>\n",
       "      <td>0</td>\n",
       "    </tr>\n",
       "    <tr>\n",
       "      <th>1447</th>\n",
       "      <td>74.0</td>\n",
       "      <td>9627</td>\n",
       "      <td>94.0</td>\n",
       "      <td>0</td>\n",
       "      <td>1</td>\n",
       "      <td>3.0</td>\n",
       "      <td>0</td>\n",
       "      <td>0</td>\n",
       "      <td>11</td>\n",
       "      <td>2996.0</td>\n",
       "      <td>...</td>\n",
       "      <td>0</td>\n",
       "      <td>0</td>\n",
       "      <td>0</td>\n",
       "      <td>1</td>\n",
       "      <td>0</td>\n",
       "      <td>0</td>\n",
       "      <td>0</td>\n",
       "      <td>1</td>\n",
       "      <td>0</td>\n",
       "      <td>1</td>\n",
       "    </tr>\n",
       "  </tbody>\n",
       "</table>\n",
       "<p>1448 rows × 191 columns</p>\n",
       "</div>"
      ],
      "text/plain": [
       "      LotFrontage  LotArea  MasVnrArea  LowQualFinSF  Fireplaces  GarageCars  \\\n",
       "0            80.0    11622         0.0             0           0         1.0   \n",
       "1            81.0    14267       108.0             0           0         1.0   \n",
       "2            74.0    13830         0.0             0           1         2.0   \n",
       "3            78.0     9978        20.0             0           1         2.0   \n",
       "4            43.0     5005         0.0             0           0         2.0   \n",
       "...           ...      ...         ...           ...         ...         ...   \n",
       "1443         21.0     1936         0.0             0           0         0.0   \n",
       "1444         21.0     1894         0.0             0           0         1.0   \n",
       "1445        160.0    20000         0.0             0           1         2.0   \n",
       "1446         62.0    10441         0.0             0           0         0.0   \n",
       "1447         74.0     9627        94.0             0           1         3.0   \n",
       "\n",
       "      PoolArea  MiscVal  MoSold   TotSq  ...  SaleType_ConLw  SaleType_New  \\\n",
       "0            0        0       6  1778.0  ...               0             0   \n",
       "1            0    12500       6  2658.0  ...               0             0   \n",
       "2            0        0       3  2557.0  ...               0             0   \n",
       "3            0        0       6  2530.0  ...               0             0   \n",
       "4            0        0       1  2560.0  ...               0             0   \n",
       "...        ...      ...     ...     ...  ...             ...           ...   \n",
       "1443         0        0       6  1638.0  ...               0             0   \n",
       "1444         0        0       4  1638.0  ...               0             0   \n",
       "1445         0        0       9  2448.0  ...               0             0   \n",
       "1446         0      700       7  1882.0  ...               0             0   \n",
       "1447         0        0      11  2996.0  ...               0             0   \n",
       "\n",
       "      SaleType_Oth  SaleType_WD  SaleCondition_AdjLand  SaleCondition_Alloca  \\\n",
       "0                0            1                      0                     0   \n",
       "1                0            1                      0                     0   \n",
       "2                0            1                      0                     0   \n",
       "3                0            1                      0                     0   \n",
       "4                0            1                      0                     0   \n",
       "...            ...          ...                    ...                   ...   \n",
       "1443             0            1                      0                     0   \n",
       "1444             0            1                      0                     0   \n",
       "1445             0            1                      0                     0   \n",
       "1446             0            1                      0                     0   \n",
       "1447             0            1                      0                     0   \n",
       "\n",
       "      SaleCondition_Family  SaleCondition_Normal  SaleCondition_Partial  \\\n",
       "0                        0                     1                      0   \n",
       "1                        0                     1                      0   \n",
       "2                        0                     1                      0   \n",
       "3                        0                     1                      0   \n",
       "4                        0                     1                      0   \n",
       "...                    ...                   ...                    ...   \n",
       "1443                     0                     1                      0   \n",
       "1444                     0                     0                      0   \n",
       "1445                     0                     0                      0   \n",
       "1446                     0                     1                      0   \n",
       "1447                     0                     1                      0   \n",
       "\n",
       "      RemodYN_Yes  \n",
       "0               0  \n",
       "1               0  \n",
       "2               1  \n",
       "3               0  \n",
       "4               0  \n",
       "...           ...  \n",
       "1443            0  \n",
       "1444            0  \n",
       "1445            1  \n",
       "1446            0  \n",
       "1447            1  \n",
       "\n",
       "[1448 rows x 191 columns]"
      ]
     },
     "execution_count": 131,
     "metadata": {},
     "output_type": "execute_result"
    }
   ],
   "source": [
    "catCols = [i for i in df.columns if df[i].dtypes == object]\n",
    "pd.get_dummies(df, columns = catCols, drop_first = True).to_csv('C:/Users/jmeis/NYC_DSA/HousingPrices/Data/Version_1.4/FinalTest.csv')\n",
    "Vdf = pd.get_dummies(df, columns = catCols, drop_first = True)\n",
    "Vdf"
   ]
  },
  {
   "cell_type": "markdown",
   "id": "9ad755b9",
   "metadata": {},
   "source": [
    "# Create 2 Models with parameters from Modeling Notebook"
   ]
  },
  {
   "cell_type": "code",
   "execution_count": 132,
   "id": "f3a1dae3",
   "metadata": {},
   "outputs": [],
   "source": [
    "X_train= pd.read_csv('C:/Users/jmeis/NYC_DSA/HousingPrices/Data/Version_1.4/x_Train.csv')\n",
    "X_test= pd.read_csv('C:/Users/jmeis/NYC_DSA/HousingPrices/Data/Version_1.4/x_Test.csv')\n",
    "y_train= pd.read_csv('C:/Users/jmeis/NYC_DSA/HousingPrices/Data/Version_1.4/y_Train.csv')\n",
    "y_test= pd.read_csv('C:/Users/jmeis/NYC_DSA/HousingPrices/Data/Version_1.4/y_Test.csv')\n"
   ]
  },
  {
   "cell_type": "code",
   "execution_count": 133,
   "id": "b9b0f168",
   "metadata": {},
   "outputs": [
    {
     "data": {
      "text/plain": [
       "['MSSubClass_150',\n",
       " 'Condition2_PosA',\n",
       " 'Exterior1st_AsphShn',\n",
       " 'Exterior1st_None',\n",
       " 'Exterior2nd_CBlock',\n",
       " 'Exterior2nd_None',\n",
       " 'HeatingQC_Po',\n",
       " 'Functional_Sev']"
      ]
     },
     "execution_count": 133,
     "metadata": {},
     "output_type": "execute_result"
    }
   ],
   "source": [
    "add2XTrain = []\n",
    "for i in Vdf.columns:\n",
    "    if i not in X_train.columns:\n",
    "        add2XTrain.append(i)\n",
    "add2XTrain"
   ]
  },
  {
   "cell_type": "code",
   "execution_count": 134,
   "id": "93d3a89d",
   "metadata": {
    "scrolled": true
   },
   "outputs": [],
   "source": [
    "X_train[add2XTrain] = 0\n"
   ]
  },
  {
   "cell_type": "code",
   "execution_count": 135,
   "id": "3562e51c",
   "metadata": {},
   "outputs": [
    {
     "data": {
      "text/plain": [
       "['Condition2_RRNn', 'HouseStyle_2.5Fin', 'Exterior1st_Stone', 'Heating_OthW']"
      ]
     },
     "execution_count": 135,
     "metadata": {},
     "output_type": "execute_result"
    }
   ],
   "source": [
    "add2Vdf = []\n",
    "for i in X_train.columns:\n",
    "    if i not in Vdf:\n",
    "        add2Vdf.append(i)\n",
    "add2Vdf"
   ]
  },
  {
   "cell_type": "code",
   "execution_count": 136,
   "id": "efb8de09",
   "metadata": {},
   "outputs": [],
   "source": [
    "Vdf[add2Vdf] = 0"
   ]
  },
  {
   "cell_type": "code",
   "execution_count": 142,
   "id": "3e576d29",
   "metadata": {},
   "outputs": [],
   "source": [
    "add2XTest = []\n",
    "for i in Vdf.columns:\n",
    "    if i not in X_test.columns:\n",
    "        add2XTest.append(i)\n",
    "X_test[add2XTest] = 0"
   ]
  },
  {
   "cell_type": "code",
   "execution_count": 137,
   "id": "e79d70fa",
   "metadata": {},
   "outputs": [],
   "source": [
    "def warn(*args, **kwargs):\n",
    "    pass\n",
    "import warnings\n",
    "warnings.warn = warn"
   ]
  },
  {
   "cell_type": "code",
   "execution_count": 169,
   "id": "2d773e96",
   "metadata": {},
   "outputs": [],
   "source": [
    "Vdf.to_csv('C:/Users/jmeis/NYC_DSA/HousingPrices/Data/Version_1.4/FinalTest.csv')"
   ]
  },
  {
   "cell_type": "code",
   "execution_count": 155,
   "id": "bc70247e",
   "metadata": {},
   "outputs": [
    {
     "data": {
      "text/html": [
       "<div>\n",
       "<style scoped>\n",
       "    .dataframe tbody tr th:only-of-type {\n",
       "        vertical-align: middle;\n",
       "    }\n",
       "\n",
       "    .dataframe tbody tr th {\n",
       "        vertical-align: top;\n",
       "    }\n",
       "\n",
       "    .dataframe thead th {\n",
       "        text-align: right;\n",
       "    }\n",
       "</style>\n",
       "<table border=\"1\" class=\"dataframe\">\n",
       "  <thead>\n",
       "    <tr style=\"text-align: right;\">\n",
       "      <th></th>\n",
       "      <th>LotFrontage</th>\n",
       "      <th>LotArea</th>\n",
       "      <th>MasVnrArea</th>\n",
       "      <th>LowQualFinSF</th>\n",
       "      <th>Fireplaces</th>\n",
       "      <th>GarageCars</th>\n",
       "      <th>PoolArea</th>\n",
       "      <th>MiscVal</th>\n",
       "      <th>MoSold</th>\n",
       "      <th>TotSq</th>\n",
       "      <th>...</th>\n",
       "      <th>SaleCondition_Partial</th>\n",
       "      <th>RemodYN_Yes</th>\n",
       "      <th>MSSubClass_150</th>\n",
       "      <th>Condition2_PosA</th>\n",
       "      <th>Exterior1st_AsphShn</th>\n",
       "      <th>Exterior1st_None</th>\n",
       "      <th>Exterior2nd_CBlock</th>\n",
       "      <th>Exterior2nd_None</th>\n",
       "      <th>HeatingQC_Po</th>\n",
       "      <th>Functional_Sev</th>\n",
       "    </tr>\n",
       "  </thead>\n",
       "  <tbody>\n",
       "    <tr>\n",
       "      <th>0</th>\n",
       "      <td>36.000000</td>\n",
       "      <td>2268</td>\n",
       "      <td>106.0</td>\n",
       "      <td>0</td>\n",
       "      <td>0</td>\n",
       "      <td>2</td>\n",
       "      <td>0</td>\n",
       "      <td>0</td>\n",
       "      <td>7</td>\n",
       "      <td>2390</td>\n",
       "      <td>...</td>\n",
       "      <td>0</td>\n",
       "      <td>1</td>\n",
       "      <td>0</td>\n",
       "      <td>0</td>\n",
       "      <td>0</td>\n",
       "      <td>0</td>\n",
       "      <td>0</td>\n",
       "      <td>0</td>\n",
       "      <td>0</td>\n",
       "      <td>0</td>\n",
       "    </tr>\n",
       "    <tr>\n",
       "      <th>1</th>\n",
       "      <td>65.000000</td>\n",
       "      <td>7804</td>\n",
       "      <td>0.0</td>\n",
       "      <td>0</td>\n",
       "      <td>2</td>\n",
       "      <td>2</td>\n",
       "      <td>0</td>\n",
       "      <td>0</td>\n",
       "      <td>12</td>\n",
       "      <td>3103</td>\n",
       "      <td>...</td>\n",
       "      <td>0</td>\n",
       "      <td>1</td>\n",
       "      <td>0</td>\n",
       "      <td>0</td>\n",
       "      <td>0</td>\n",
       "      <td>0</td>\n",
       "      <td>0</td>\n",
       "      <td>0</td>\n",
       "      <td>0</td>\n",
       "      <td>0</td>\n",
       "    </tr>\n",
       "    <tr>\n",
       "      <th>2</th>\n",
       "      <td>66.000000</td>\n",
       "      <td>16226</td>\n",
       "      <td>0.0</td>\n",
       "      <td>0</td>\n",
       "      <td>1</td>\n",
       "      <td>2</td>\n",
       "      <td>0</td>\n",
       "      <td>0</td>\n",
       "      <td>5</td>\n",
       "      <td>3480</td>\n",
       "      <td>...</td>\n",
       "      <td>0</td>\n",
       "      <td>1</td>\n",
       "      <td>0</td>\n",
       "      <td>0</td>\n",
       "      <td>0</td>\n",
       "      <td>0</td>\n",
       "      <td>0</td>\n",
       "      <td>0</td>\n",
       "      <td>0</td>\n",
       "      <td>0</td>\n",
       "    </tr>\n",
       "    <tr>\n",
       "      <th>3</th>\n",
       "      <td>36.867934</td>\n",
       "      <td>5100</td>\n",
       "      <td>0.0</td>\n",
       "      <td>0</td>\n",
       "      <td>1</td>\n",
       "      <td>1</td>\n",
       "      <td>0</td>\n",
       "      <td>0</td>\n",
       "      <td>6</td>\n",
       "      <td>2254</td>\n",
       "      <td>...</td>\n",
       "      <td>0</td>\n",
       "      <td>1</td>\n",
       "      <td>0</td>\n",
       "      <td>0</td>\n",
       "      <td>0</td>\n",
       "      <td>0</td>\n",
       "      <td>0</td>\n",
       "      <td>0</td>\n",
       "      <td>0</td>\n",
       "      <td>0</td>\n",
       "    </tr>\n",
       "    <tr>\n",
       "      <th>4</th>\n",
       "      <td>60.000000</td>\n",
       "      <td>8520</td>\n",
       "      <td>0.0</td>\n",
       "      <td>0</td>\n",
       "      <td>1</td>\n",
       "      <td>1</td>\n",
       "      <td>0</td>\n",
       "      <td>0</td>\n",
       "      <td>8</td>\n",
       "      <td>3240</td>\n",
       "      <td>...</td>\n",
       "      <td>0</td>\n",
       "      <td>1</td>\n",
       "      <td>0</td>\n",
       "      <td>0</td>\n",
       "      <td>0</td>\n",
       "      <td>0</td>\n",
       "      <td>0</td>\n",
       "      <td>0</td>\n",
       "      <td>0</td>\n",
       "      <td>0</td>\n",
       "    </tr>\n",
       "    <tr>\n",
       "      <th>...</th>\n",
       "      <td>...</td>\n",
       "      <td>...</td>\n",
       "      <td>...</td>\n",
       "      <td>...</td>\n",
       "      <td>...</td>\n",
       "      <td>...</td>\n",
       "      <td>...</td>\n",
       "      <td>...</td>\n",
       "      <td>...</td>\n",
       "      <td>...</td>\n",
       "      <td>...</td>\n",
       "      <td>...</td>\n",
       "      <td>...</td>\n",
       "      <td>...</td>\n",
       "      <td>...</td>\n",
       "      <td>...</td>\n",
       "      <td>...</td>\n",
       "      <td>...</td>\n",
       "      <td>...</td>\n",
       "      <td>...</td>\n",
       "      <td>...</td>\n",
       "    </tr>\n",
       "    <tr>\n",
       "      <th>428</th>\n",
       "      <td>61.265832</td>\n",
       "      <td>8475</td>\n",
       "      <td>0.0</td>\n",
       "      <td>0</td>\n",
       "      <td>0</td>\n",
       "      <td>1</td>\n",
       "      <td>0</td>\n",
       "      <td>0</td>\n",
       "      <td>4</td>\n",
       "      <td>1904</td>\n",
       "      <td>...</td>\n",
       "      <td>0</td>\n",
       "      <td>0</td>\n",
       "      <td>0</td>\n",
       "      <td>0</td>\n",
       "      <td>0</td>\n",
       "      <td>0</td>\n",
       "      <td>0</td>\n",
       "      <td>0</td>\n",
       "      <td>0</td>\n",
       "      <td>0</td>\n",
       "    </tr>\n",
       "    <tr>\n",
       "      <th>429</th>\n",
       "      <td>43.000000</td>\n",
       "      <td>3182</td>\n",
       "      <td>16.0</td>\n",
       "      <td>0</td>\n",
       "      <td>1</td>\n",
       "      <td>2</td>\n",
       "      <td>0</td>\n",
       "      <td>0</td>\n",
       "      <td>5</td>\n",
       "      <td>2928</td>\n",
       "      <td>...</td>\n",
       "      <td>0</td>\n",
       "      <td>1</td>\n",
       "      <td>0</td>\n",
       "      <td>0</td>\n",
       "      <td>0</td>\n",
       "      <td>0</td>\n",
       "      <td>0</td>\n",
       "      <td>0</td>\n",
       "      <td>0</td>\n",
       "      <td>0</td>\n",
       "    </tr>\n",
       "    <tr>\n",
       "      <th>430</th>\n",
       "      <td>79.000000</td>\n",
       "      <td>9480</td>\n",
       "      <td>224.0</td>\n",
       "      <td>0</td>\n",
       "      <td>2</td>\n",
       "      <td>1</td>\n",
       "      <td>0</td>\n",
       "      <td>0</td>\n",
       "      <td>6</td>\n",
       "      <td>2372</td>\n",
       "      <td>...</td>\n",
       "      <td>0</td>\n",
       "      <td>1</td>\n",
       "      <td>0</td>\n",
       "      <td>0</td>\n",
       "      <td>0</td>\n",
       "      <td>0</td>\n",
       "      <td>0</td>\n",
       "      <td>0</td>\n",
       "      <td>0</td>\n",
       "      <td>0</td>\n",
       "    </tr>\n",
       "    <tr>\n",
       "      <th>431</th>\n",
       "      <td>61.000000</td>\n",
       "      <td>7943</td>\n",
       "      <td>192.0</td>\n",
       "      <td>0</td>\n",
       "      <td>0</td>\n",
       "      <td>1</td>\n",
       "      <td>0</td>\n",
       "      <td>0</td>\n",
       "      <td>4</td>\n",
       "      <td>2058</td>\n",
       "      <td>...</td>\n",
       "      <td>0</td>\n",
       "      <td>0</td>\n",
       "      <td>0</td>\n",
       "      <td>0</td>\n",
       "      <td>0</td>\n",
       "      <td>0</td>\n",
       "      <td>0</td>\n",
       "      <td>0</td>\n",
       "      <td>0</td>\n",
       "      <td>0</td>\n",
       "    </tr>\n",
       "    <tr>\n",
       "      <th>432</th>\n",
       "      <td>60.000000</td>\n",
       "      <td>11100</td>\n",
       "      <td>0.0</td>\n",
       "      <td>0</td>\n",
       "      <td>0</td>\n",
       "      <td>1</td>\n",
       "      <td>0</td>\n",
       "      <td>0</td>\n",
       "      <td>4</td>\n",
       "      <td>930</td>\n",
       "      <td>...</td>\n",
       "      <td>0</td>\n",
       "      <td>1</td>\n",
       "      <td>0</td>\n",
       "      <td>0</td>\n",
       "      <td>0</td>\n",
       "      <td>0</td>\n",
       "      <td>0</td>\n",
       "      <td>0</td>\n",
       "      <td>0</td>\n",
       "      <td>0</td>\n",
       "    </tr>\n",
       "  </tbody>\n",
       "</table>\n",
       "<p>433 rows × 195 columns</p>\n",
       "</div>"
      ],
      "text/plain": [
       "     LotFrontage  LotArea  MasVnrArea  LowQualFinSF  Fireplaces  GarageCars  \\\n",
       "0      36.000000     2268       106.0             0           0           2   \n",
       "1      65.000000     7804         0.0             0           2           2   \n",
       "2      66.000000    16226         0.0             0           1           2   \n",
       "3      36.867934     5100         0.0             0           1           1   \n",
       "4      60.000000     8520         0.0             0           1           1   \n",
       "..           ...      ...         ...           ...         ...         ...   \n",
       "428    61.265832     8475         0.0             0           0           1   \n",
       "429    43.000000     3182        16.0             0           1           2   \n",
       "430    79.000000     9480       224.0             0           2           1   \n",
       "431    61.000000     7943       192.0             0           0           1   \n",
       "432    60.000000    11100         0.0             0           0           1   \n",
       "\n",
       "     PoolArea  MiscVal  MoSold  TotSq  ...  SaleCondition_Partial  \\\n",
       "0           0        0       7   2390  ...                      0   \n",
       "1           0        0      12   3103  ...                      0   \n",
       "2           0        0       5   3480  ...                      0   \n",
       "3           0        0       6   2254  ...                      0   \n",
       "4           0        0       8   3240  ...                      0   \n",
       "..        ...      ...     ...    ...  ...                    ...   \n",
       "428         0        0       4   1904  ...                      0   \n",
       "429         0        0       5   2928  ...                      0   \n",
       "430         0        0       6   2372  ...                      0   \n",
       "431         0        0       4   2058  ...                      0   \n",
       "432         0        0       4    930  ...                      0   \n",
       "\n",
       "     RemodYN_Yes  MSSubClass_150  Condition2_PosA  Exterior1st_AsphShn  \\\n",
       "0              1               0                0                    0   \n",
       "1              1               0                0                    0   \n",
       "2              1               0                0                    0   \n",
       "3              1               0                0                    0   \n",
       "4              1               0                0                    0   \n",
       "..           ...             ...              ...                  ...   \n",
       "428            0               0                0                    0   \n",
       "429            1               0                0                    0   \n",
       "430            1               0                0                    0   \n",
       "431            0               0                0                    0   \n",
       "432            1               0                0                    0   \n",
       "\n",
       "     Exterior1st_None  Exterior2nd_CBlock  Exterior2nd_None  HeatingQC_Po  \\\n",
       "0                   0                   0                 0             0   \n",
       "1                   0                   0                 0             0   \n",
       "2                   0                   0                 0             0   \n",
       "3                   0                   0                 0             0   \n",
       "4                   0                   0                 0             0   \n",
       "..                ...                 ...               ...           ...   \n",
       "428                 0                   0                 0             0   \n",
       "429                 0                   0                 0             0   \n",
       "430                 0                   0                 0             0   \n",
       "431                 0                   0                 0             0   \n",
       "432                 0                   0                 0             0   \n",
       "\n",
       "     Functional_Sev  \n",
       "0                 0  \n",
       "1                 0  \n",
       "2                 0  \n",
       "3                 0  \n",
       "4                 0  \n",
       "..              ...  \n",
       "428               0  \n",
       "429               0  \n",
       "430               0  \n",
       "431               0  \n",
       "432               0  \n",
       "\n",
       "[433 rows x 195 columns]"
      ]
     },
     "execution_count": 155,
     "metadata": {},
     "output_type": "execute_result"
    }
   ],
   "source": [
    "X_test"
   ]
  },
  {
   "cell_type": "code",
   "execution_count": 156,
   "id": "8a2c78ea",
   "metadata": {},
   "outputs": [
    {
     "data": {
      "text/plain": [
       "Lasso()"
      ]
     },
     "execution_count": 156,
     "metadata": {},
     "output_type": "execute_result"
    }
   ],
   "source": [
    "from sklearn.linear_model import Lasso\n",
    "logit = Lasso()\n",
    "logit.fit(X_train, y_train)"
   ]
  },
  {
   "cell_type": "code",
   "execution_count": 157,
   "id": "8ec30286",
   "metadata": {},
   "outputs": [],
   "source": [
    "LassoPred = logit.predict(Vdf)"
   ]
  },
  {
   "cell_type": "code",
   "execution_count": 158,
   "id": "0112b003",
   "metadata": {},
   "outputs": [
    {
     "data": {
      "text/plain": [
       "array([-141575.31762057, -124071.32984559, -158790.94052311, ...,\n",
       "       -213613.89895836, -317081.30880098, -251470.73038039])"
      ]
     },
     "execution_count": 158,
     "metadata": {},
     "output_type": "execute_result"
    }
   ],
   "source": [
    "LassoPred"
   ]
  },
  {
   "cell_type": "code",
   "execution_count": 163,
   "id": "216df477",
   "metadata": {},
   "outputs": [],
   "source": [
    "from sklearn.ensemble import RandomForestRegressor\n",
    "\n",
    "rfr = RandomForestRegressor(max_depth= 12,\n",
    " max_leaf_nodes= 500,\n",
    " max_samples= None,\n",
    " min_samples_leaf= 4,\n",
    " min_samples_split= 5,\n",
    " n_estimators= 300)"
   ]
  },
  {
   "cell_type": "code",
   "execution_count": 164,
   "id": "d4e7100d",
   "metadata": {},
   "outputs": [
    {
     "data": {
      "text/plain": [
       "array([119120.09618399, 146972.03592184, 175092.71771405, ...,\n",
       "       170071.93473486, 110682.44315085, 194514.3642466 ])"
      ]
     },
     "execution_count": 164,
     "metadata": {},
     "output_type": "execute_result"
    }
   ],
   "source": [
    "rfr.fit(X_train, y_train)\n",
    "rfrPred = rfr.predict(Vdf)"
   ]
  },
  {
   "cell_type": "code",
   "execution_count": 165,
   "id": "5a1000f8",
   "metadata": {},
   "outputs": [],
   "source": [
    "import xgboost as xgb\n",
    "logitXB = xgb.XGBRegressor(max_depth = 8,\n",
    " min_child_weight = 9,\n",
    " eta = 0.01,\n",
    " subsample = 0.7,\n",
    " colsample_bytree = 0.7,\n",
    " objective = 'reg:linear',\n",
    " eval_metric = 'mae',\n",
    " num_boost_round = 519\n",
    ")"
   ]
  },
  {
   "cell_type": "code",
   "execution_count": 168,
   "id": "282cbec1",
   "metadata": {},
   "outputs": [
    {
     "ename": "AttributeError",
     "evalue": "'XGBRegressor' object has no attribute 'train'",
     "output_type": "error",
     "traceback": [
      "\u001b[1;31m---------------------------------------------------------------------------\u001b[0m",
      "\u001b[1;31mAttributeError\u001b[0m                            Traceback (most recent call last)",
      "\u001b[1;32m~\\AppData\\Local\\Temp/ipykernel_17992/2139510881.py\u001b[0m in \u001b[0;36m<module>\u001b[1;34m\u001b[0m\n\u001b[1;32m----> 1\u001b[1;33m \u001b[0mlogitXB\u001b[0m\u001b[1;33m.\u001b[0m\u001b[0mtrain\u001b[0m\u001b[1;33m(\u001b[0m\u001b[0mX_train\u001b[0m\u001b[1;33m,\u001b[0m \u001b[0my_train\u001b[0m\u001b[1;33m)\u001b[0m\u001b[1;33m\u001b[0m\u001b[1;33m\u001b[0m\u001b[0m\n\u001b[0m",
      "\u001b[1;31mAttributeError\u001b[0m: 'XGBRegressor' object has no attribute 'train'"
     ]
    }
   ],
   "source": [
    "logitXB.train(X_train, y_train)"
   ]
  },
  {
   "cell_type": "code",
   "execution_count": 167,
   "id": "929b4024",
   "metadata": {},
   "outputs": [
    {
     "data": {
      "text/plain": [
       "array([ 70172.22,  88597.37, 107290.67, ..., 104737.81,  72606.77,\n",
       "       125982.54], dtype=float32)"
      ]
     },
     "execution_count": 167,
     "metadata": {},
     "output_type": "execute_result"
    }
   ],
   "source": [
    "logitXB.predict(Vdf)"
   ]
  },
  {
   "cell_type": "code",
   "execution_count": null,
   "id": "e2c29367",
   "metadata": {},
   "outputs": [],
   "source": []
  }
 ],
 "metadata": {
  "kernelspec": {
   "display_name": "Python 3 (ipykernel)",
   "language": "python",
   "name": "python3"
  },
  "language_info": {
   "codemirror_mode": {
    "name": "ipython",
    "version": 3
   },
   "file_extension": ".py",
   "mimetype": "text/x-python",
   "name": "python",
   "nbconvert_exporter": "python",
   "pygments_lexer": "ipython3",
   "version": "3.8.12"
  }
 },
 "nbformat": 4,
 "nbformat_minor": 5
}
